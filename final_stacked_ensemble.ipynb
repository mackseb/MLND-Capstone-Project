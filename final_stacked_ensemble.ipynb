{
  "cells": [
    {
      "metadata": {
        "_uuid": "8f2839f25d086af736a60e9eeb907d3b93b6e0e5",
        "_cell_guid": "b1076dfc-b9ad-4769-8c92-a6c4dae69d19",
        "trusted": true
      },
      "cell_type": "code",
      "source": "# Import of required modules\nimport numpy as np \nimport pandas as pd \n\nimport h2o\nfrom h2o.estimators.glm import H2OGeneralizedLinearEstimator\nfrom h2o.estimators.random_forest import H2ORandomForestEstimator\nfrom h2o.estimators.gbm import H2OGradientBoostingEstimator\nfrom h2o.estimators.stackedensemble import H2OStackedEnsembleEstimator\n\nh2o.init()",
      "execution_count": 1,
      "outputs": [
        {
          "output_type": "stream",
          "text": "Checking whether there is an H2O instance running at http://localhost:54321..... not found.\nAttempting to start a local H2O server...\n  Java Version: openjdk version \"1.8.0_181\"; OpenJDK Runtime Environment (build 1.8.0_181-8u181-b13-2~deb9u1-b13); OpenJDK 64-Bit Server VM (build 25.181-b13, mixed mode)\n  Starting server from /opt/conda/lib/python3.6/site-packages/h2o/backend/bin/h2o.jar\n  Ice root: /tmp/tmp9fugs3ra\n  JVM stdout: /tmp/tmp9fugs3ra/h2o_unknownUser_started_from_python.out\n  JVM stderr: /tmp/tmp9fugs3ra/h2o_unknownUser_started_from_python.err\n  Server is running at http://127.0.0.1:54321\nConnecting to H2O server at http://127.0.0.1:54321... successful.\n",
          "name": "stdout"
        },
        {
          "output_type": "display_data",
          "data": {
            "text/plain": "--------------------------  ----------------------------------------\nH2O cluster uptime:         01 secs\nH2O cluster timezone:       Etc/UTC\nH2O data parsing timezone:  UTC\nH2O cluster version:        3.22.1.1\nH2O cluster version age:    10 days\nH2O cluster name:           H2O_from_python_unknownUser_2xicpd\nH2O cluster total nodes:    1\nH2O cluster free memory:    5.672 Gb\nH2O cluster total cores:    4\nH2O cluster allowed cores:  4\nH2O cluster status:         accepting new members, healthy\nH2O connection url:         http://127.0.0.1:54321\nH2O connection proxy:\nH2O internal security:      False\nH2O API Extensions:         XGBoost, Algos, AutoML, Core V3, Core V4\nPython version:             3.6.6 final\n--------------------------  ----------------------------------------",
            "text/html": "<div style=\"overflow:auto\"><table style=\"width:50%\"><tr><td>H2O cluster uptime:</td>\n<td>01 secs</td></tr>\n<tr><td>H2O cluster timezone:</td>\n<td>Etc/UTC</td></tr>\n<tr><td>H2O data parsing timezone:</td>\n<td>UTC</td></tr>\n<tr><td>H2O cluster version:</td>\n<td>3.22.1.1</td></tr>\n<tr><td>H2O cluster version age:</td>\n<td>10 days </td></tr>\n<tr><td>H2O cluster name:</td>\n<td>H2O_from_python_unknownUser_2xicpd</td></tr>\n<tr><td>H2O cluster total nodes:</td>\n<td>1</td></tr>\n<tr><td>H2O cluster free memory:</td>\n<td>5.672 Gb</td></tr>\n<tr><td>H2O cluster total cores:</td>\n<td>4</td></tr>\n<tr><td>H2O cluster allowed cores:</td>\n<td>4</td></tr>\n<tr><td>H2O cluster status:</td>\n<td>accepting new members, healthy</td></tr>\n<tr><td>H2O connection url:</td>\n<td>http://127.0.0.1:54321</td></tr>\n<tr><td>H2O connection proxy:</td>\n<td>None</td></tr>\n<tr><td>H2O internal security:</td>\n<td>False</td></tr>\n<tr><td>H2O API Extensions:</td>\n<td>XGBoost, Algos, AutoML, Core V3, Core V4</td></tr>\n<tr><td>Python version:</td>\n<td>3.6.6 final</td></tr></table></div>"
          },
          "metadata": {}
        }
      ]
    },
    {
      "metadata": {
        "_cell_guid": "79c7e3d0-c299-4dcb-8224-4455121ee9b0",
        "_uuid": "d629ff2d2480ee46fbb7e2d37f6b5fab8052498a",
        "trusted": true
      },
      "cell_type": "code",
      "source": "# Load prepared train data\ntrain = h2o.import_file(\"../input/elo-feature-engineering/train.csv\")",
      "execution_count": 2,
      "outputs": [
        {
          "output_type": "stream",
          "text": "Parse progress: |█████████████████████████████████████████████████████████| 100%\n",
          "name": "stdout"
        }
      ]
    },
    {
      "metadata": {
        "trusted": true,
        "_uuid": "e266ac33af1e0c2461dd5cb5cf04844b29542a25"
      },
      "cell_type": "code",
      "source": "# Load prepared test data\ntest = h2o.import_file(\"../input/elo-feature-engineering/test.csv\")",
      "execution_count": 3,
      "outputs": [
        {
          "output_type": "stream",
          "text": "Parse progress: |█████████████████████████████████████████████████████████| 100%\n",
          "name": "stdout"
        }
      ]
    },
    {
      "metadata": {
        "trusted": true,
        "_uuid": "326a2de681a9fcced0907258c2fa77db9ebe6bba"
      },
      "cell_type": "code",
      "source": "# Specify data types of features\nfor category in [\"feature_1\", \"feature_2\", \"feature_3\", \"year\", \"weekofyear\", \"month\"]:\n    train[category] = train[category].asfactor()\n    test[category] = test[category].asfactor()\n    \npredictors = train.columns\nresponse = \"target\"\npredictors.remove(response)\npredictors.remove(\"card_id\")\npredictors.remove(\"first_active_month\")",
      "execution_count": 4,
      "outputs": []
    },
    {
      "metadata": {
        "trusted": true,
        "_uuid": "5b1a03da19be3bd6fb4a0072f2e066ee895d4a96"
      },
      "cell_type": "code",
      "source": "# Specify cross validation folds for Base Learners\nnfolds = 6",
      "execution_count": 5,
      "outputs": []
    },
    {
      "metadata": {
        "_uuid": "3bd8b31228b109bb43d80080fee52363ab147715"
      },
      "cell_type": "markdown",
      "source": "## Training of Generalized Linear Model as Base Learner"
    },
    {
      "metadata": {
        "trusted": true,
        "_uuid": "b33bb710eb3af3778d0e5dd18e1fb9828cb3c59d"
      },
      "cell_type": "code",
      "source": "# Inialize GLM Model\nglm = H2OGeneralizedLinearEstimator(nfolds=nfolds,\n                                    fold_assignment=\"Modulo\",\n                                    keep_cross_validation_predictions=True,\n                                    seed=42,\n                                    alpha=0.5,\n                                    lambda_=0.5)\n# Start Training\nglm.train(x=predictors, y=response, training_frame=train)\n# Output Summary\nglm",
      "execution_count": 6,
      "outputs": [
        {
          "output_type": "stream",
          "text": "glm Model Build progress: |███████████████████████████████████████████████| 100%\nModel Details\n=============\nH2OGeneralizedLinearEstimator :  Generalized Linear Modeling\nModel Key:  GLM_model_python_1546888541236_1\n\n\nModelMetricsRegressionGLM: glm\n** Reported on train data. **\n\nMSE: 14.657957716881588\nRMSE: 3.8285712370127825\nMAE: 1.5820778578914771\nRMSLE: NaN\nR^2: 0.011352720074814804\nMean Residual Deviance: 14.657957716881588\nNull degrees of freedom: 201916\nResidual degrees of freedom: 201915\nNull deviance: 2993677.2278820523\nResidual deviance: 2959690.84831958\nAIC: 1115165.4121226156\n\nModelMetricsRegressionGLM: glm\n** Reported on cross-validation data. **\n\nMSE: 14.688586907553649\nRMSE: 3.832569230627628\nMAE: 1.581835951219728\nRMSLE: NaN\nR^2: 0.009286847964305789\nMean Residual Deviance: 14.688586907553649\nNull degrees of freedom: 201916\nResidual degrees of freedom: 201915\nNull deviance: 2993753.841715544\nResidual deviance: 2965875.40261251\nAIC: 1115586.8966018101\nCross-Validation Metrics Summary: \n",
          "name": "stdout"
        },
        {
          "output_type": "display_data",
          "data": {
            "text/plain": "                        mean        sd          cv_1_valid    cv_2_valid    cv_3_valid    cv_4_valid    cv_5_valid    cv_6_valid\n----------------------  ----------  ----------  ------------  ------------  ------------  ------------  ------------  ------------\nmae                     1.58184     0.0203363   1.57643       1.56078       1.60223       1.62845       1.53833       1.58478\nmean_residual_deviance  14.6886     0.620995    14.6771       14.2093       15.1136       16.2254       13.3312       14.575\nmse                     14.6886     0.620995    14.6771       14.2093       15.1136       16.2254       13.3312       14.575\nnull_deviance           498959      20944.8     498385        482820        513362        550849        453261        495077\nr2                      0.00925569  0.00033397  0.00894409    0.00956864    0.00921101    0.0085077     0.010018      0.00928476\nresidual_deviance       494313      20898.6     493927        478186        508618        546033        448635        490476\nrmse                    3.83087     0.0807933   3.83107       3.76952       3.88762       4.02808       3.65119       3.81772\nrmsle                   0           nan         nan           nan           nan           nan           nan           nan",
            "text/html": "<div style=\"overflow:auto\"><table style=\"width:50%\"><tr><td><b></b></td>\n<td><b>mean</b></td>\n<td><b>sd</b></td>\n<td><b>cv_1_valid</b></td>\n<td><b>cv_2_valid</b></td>\n<td><b>cv_3_valid</b></td>\n<td><b>cv_4_valid</b></td>\n<td><b>cv_5_valid</b></td>\n<td><b>cv_6_valid</b></td></tr>\n<tr><td>mae</td>\n<td>1.581836</td>\n<td>0.0203363</td>\n<td>1.5764347</td>\n<td>1.5607811</td>\n<td>1.6022342</td>\n<td>1.628451</td>\n<td>1.5383326</td>\n<td>1.584782</td></tr>\n<tr><td>mean_residual_deviance</td>\n<td>14.688586</td>\n<td>0.6209948</td>\n<td>14.677058</td>\n<td>14.209316</td>\n<td>15.113588</td>\n<td>16.225391</td>\n<td>13.331208</td>\n<td>14.574956</td></tr>\n<tr><td>mse</td>\n<td>14.688586</td>\n<td>0.6209948</td>\n<td>14.677058</td>\n<td>14.209316</td>\n<td>15.113588</td>\n<td>16.225391</td>\n<td>13.331208</td>\n<td>14.574956</td></tr>\n<tr><td>null_deviance</td>\n<td>498958.97</td>\n<td>20944.828</td>\n<td>498384.97</td>\n<td>482819.6</td>\n<td>513362.34</td>\n<td>550849.1</td>\n<td>453261.03</td>\n<td>495076.72</td></tr>\n<tr><td>r2</td>\n<td>0.0092557</td>\n<td>0.0003340</td>\n<td>0.0089441</td>\n<td>0.0095686</td>\n<td>0.0092110</td>\n<td>0.0085077</td>\n<td>0.0100180</td>\n<td>0.0092848</td></tr>\n<tr><td>residual_deviance</td>\n<td>494312.56</td>\n<td>20898.559</td>\n<td>493927.03</td>\n<td>478186.12</td>\n<td>508617.6</td>\n<td>546033.06</td>\n<td>448635.16</td>\n<td>490476.4</td></tr>\n<tr><td>rmse</td>\n<td>3.8308656</td>\n<td>0.0807933</td>\n<td>3.831065</td>\n<td>3.7695246</td>\n<td>3.88762</td>\n<td>4.028075</td>\n<td>3.6511927</td>\n<td>3.8177161</td></tr>\n<tr><td>rmsle</td>\n<td>0.0</td>\n<td>NaN</td>\n<td>NaN</td>\n<td>NaN</td>\n<td>NaN</td>\n<td>NaN</td>\n<td>NaN</td>\n<td>NaN</td></tr></table></div>"
          },
          "metadata": {}
        },
        {
          "output_type": "stream",
          "text": "Scoring History: \n",
          "name": "stdout"
        },
        {
          "output_type": "display_data",
          "data": {
            "text/plain": "    timestamp            duration    iterations    negative_log_likelihood    objective\n--  -------------------  ----------  ------------  -------------------------  -----------\n    2019-01-07 19:15:59  0.000 sec   0             2.99368e+06                14.8263",
            "text/html": "<div style=\"overflow:auto\"><table style=\"width:50%\"><tr><td><b></b></td>\n<td><b>timestamp</b></td>\n<td><b>duration</b></td>\n<td><b>iterations</b></td>\n<td><b>negative_log_likelihood</b></td>\n<td><b>objective</b></td></tr>\n<tr><td></td>\n<td>2019-01-07 19:15:59</td>\n<td> 0.000 sec</td>\n<td>0</td>\n<td>2993677.3300601</td>\n<td>14.8262768</td></tr></table></div>"
          },
          "metadata": {}
        },
        {
          "output_type": "execute_result",
          "execution_count": 6,
          "data": {
            "text/plain": ""
          },
          "metadata": {}
        }
      ]
    },
    {
      "metadata": {
        "_uuid": "a7dffcc37968353eb5ee994cb01b8171c44bf17b"
      },
      "cell_type": "markdown",
      "source": "## Training of Distributed Random Forest as Base Learner"
    },
    {
      "metadata": {
        "trusted": true,
        "_uuid": "5b561f59ef43d2e8e5fdb0d0250773771334ae22"
      },
      "cell_type": "code",
      "source": "# Initialize DRF Model\nrf = H2ORandomForestEstimator(nfolds=nfolds,\n                              fold_assignment=\"Modulo\",\n                              keep_cross_validation_predictions=True,\n                              seed=42)\n# Start Training\nrf.train(x=predictors, y=response, training_frame=train)\n# Output Summary\nrf",
      "execution_count": 7,
      "outputs": [
        {
          "output_type": "stream",
          "text": "drf Model Build progress: |███████████████████████████████████████████████| 100%\nModel Details\n=============\nH2ORandomForestEstimator :  Distributed Random Forest\nModel Key:  DRF_model_python_1546888541236_2\n\n\nModelMetricsRegression: drf\n** Reported on train data. **\n\nMSE: 14.251576776447864\nRMSE: 3.7751260610008592\nMAE: 1.6717040629672444\nRMSLE: NaN\nMean Residual Deviance: 14.251576776447864\n\nModelMetricsRegression: drf\n** Reported on cross-validation data. **\n\nMSE: 13.898325140297118\nRMSE: 3.7280457535144493\nMAE: 1.6385436562788875\nRMSLE: NaN\nMean Residual Deviance: 13.898325140297118\nCross-Validation Metrics Summary: \n",
          "name": "stdout"
        },
        {
          "output_type": "display_data",
          "data": {
            "text/plain": "                        mean       sd          cv_1_valid    cv_2_valid    cv_3_valid    cv_4_valid    cv_5_valid    cv_6_valid\n----------------------  ---------  ----------  ------------  ------------  ------------  ------------  ------------  ------------\nmae                     1.63854    0.0186309   1.62369       1.62794       1.66489       1.67237       1.59481       1.64756\nmean_residual_deviance  13.8983    0.558643    13.8362       13.7588       14.459        15.0686       12.4747       13.7926\nmse                     13.8983    0.558643    13.8362       13.7588       14.459        15.0686       12.4747       13.7926\nr2                      0.0623494  0.00905438  0.0657226     0.0409735     0.0521213     0.0791969     0.0736191     0.062463\nresidual_deviance       13.8983    0.558643    13.8362       13.7588       14.459        15.0686       12.4747       13.7926\nrmse                    3.72652    0.0754164   3.7197        3.70928       3.8025        3.88183       3.53196       3.71384\nrmsle                   0          nan         nan           nan           nan           nan           nan           nan",
            "text/html": "<div style=\"overflow:auto\"><table style=\"width:50%\"><tr><td><b></b></td>\n<td><b>mean</b></td>\n<td><b>sd</b></td>\n<td><b>cv_1_valid</b></td>\n<td><b>cv_2_valid</b></td>\n<td><b>cv_3_valid</b></td>\n<td><b>cv_4_valid</b></td>\n<td><b>cv_5_valid</b></td>\n<td><b>cv_6_valid</b></td></tr>\n<tr><td>mae</td>\n<td>1.6385437</td>\n<td>0.0186309</td>\n<td>1.6236911</td>\n<td>1.6279423</td>\n<td>1.6648855</td>\n<td>1.6723722</td>\n<td>1.5948086</td>\n<td>1.6475625</td></tr>\n<tr><td>mean_residual_deviance</td>\n<td>13.898325</td>\n<td>0.5586434</td>\n<td>13.836195</td>\n<td>13.758763</td>\n<td>14.459031</td>\n<td>15.068588</td>\n<td>12.474749</td>\n<td>13.792622</td></tr>\n<tr><td>mse</td>\n<td>13.898325</td>\n<td>0.5586434</td>\n<td>13.836195</td>\n<td>13.758763</td>\n<td>14.459031</td>\n<td>15.068588</td>\n<td>12.474749</td>\n<td>13.792622</td></tr>\n<tr><td>r2</td>\n<td>0.0623494</td>\n<td>0.0090544</td>\n<td>0.0657226</td>\n<td>0.0409735</td>\n<td>0.0521213</td>\n<td>0.0791969</td>\n<td>0.0736191</td>\n<td>0.0624630</td></tr>\n<tr><td>residual_deviance</td>\n<td>13.898325</td>\n<td>0.5586434</td>\n<td>13.836195</td>\n<td>13.758763</td>\n<td>14.459031</td>\n<td>15.068588</td>\n<td>12.474749</td>\n<td>13.792622</td></tr>\n<tr><td>rmse</td>\n<td>3.7265198</td>\n<td>0.0754164</td>\n<td>3.7197037</td>\n<td>3.7092807</td>\n<td>3.802503</td>\n<td>3.881828</td>\n<td>3.531961</td>\n<td>3.713842</td></tr>\n<tr><td>rmsle</td>\n<td>0.0</td>\n<td>NaN</td>\n<td>NaN</td>\n<td>NaN</td>\n<td>NaN</td>\n<td>NaN</td>\n<td>NaN</td>\n<td>NaN</td></tr></table></div>"
          },
          "metadata": {}
        },
        {
          "output_type": "stream",
          "text": "Scoring History: \n",
          "name": "stdout"
        },
        {
          "output_type": "display_data",
          "data": {
            "text/plain": "     timestamp            duration           number_of_trees    training_rmse       training_mae        training_deviance\n---  -------------------  -----------------  -----------------  ------------------  ------------------  -------------------\n     2019-01-07 19:43:41  27 min 41.389 sec  0.0                nan                 nan                 nan\n     2019-01-07 19:43:46  27 min 46.549 sec  1.0                5.171071572708416   2.0660715106788783  26.73998121007309\n     2019-01-07 19:43:54  27 min 54.711 sec  3.0                4.739032618923022   1.9396304786188594  22.458430163216395\n     2019-01-07 19:43:59  27 min 59.445 sec  4.0                4.646904160149299   1.9258547036530789  21.59371827361287\n     2019-01-07 19:44:03  28 min  3.597 sec  5.0                4.579326244770609   1.9132776661832769  20.97022885604489\n---  ---                  ---                ---                ---                 ---                 ---\n     2019-01-07 19:46:48  30 min 48.292 sec  43.0               3.7894312117218054  1.6807265426156524  14.35978890837139\n     2019-01-07 19:46:56  30 min 55.959 sec  45.0               3.7841176382306463  1.6772831147125848  14.319546299968286\n     2019-01-07 19:47:04  31 min  4.789 sec  47.0               3.780800780199156   1.675493358387758   14.294454539554549\n     2019-01-07 19:47:12  31 min 12.553 sec  49.0               3.776143896436673   1.6724548562052133  14.259262726595939\n     2019-01-07 19:47:17  31 min 16.885 sec  50.0               3.7751260610008592  1.6717040629672444  14.251576776447864",
            "text/html": "<div style=\"overflow:auto\"><table style=\"width:50%\"><tr><td><b></b></td>\n<td><b>timestamp</b></td>\n<td><b>duration</b></td>\n<td><b>number_of_trees</b></td>\n<td><b>training_rmse</b></td>\n<td><b>training_mae</b></td>\n<td><b>training_deviance</b></td></tr>\n<tr><td></td>\n<td>2019-01-07 19:43:41</td>\n<td>27 min 41.389 sec</td>\n<td>0.0</td>\n<td>nan</td>\n<td>nan</td>\n<td>nan</td></tr>\n<tr><td></td>\n<td>2019-01-07 19:43:46</td>\n<td>27 min 46.549 sec</td>\n<td>1.0</td>\n<td>5.1710716</td>\n<td>2.0660715</td>\n<td>26.7399812</td></tr>\n<tr><td></td>\n<td>2019-01-07 19:43:54</td>\n<td>27 min 54.711 sec</td>\n<td>3.0</td>\n<td>4.7390326</td>\n<td>1.9396305</td>\n<td>22.4584302</td></tr>\n<tr><td></td>\n<td>2019-01-07 19:43:59</td>\n<td>27 min 59.445 sec</td>\n<td>4.0</td>\n<td>4.6469042</td>\n<td>1.9258547</td>\n<td>21.5937183</td></tr>\n<tr><td></td>\n<td>2019-01-07 19:44:03</td>\n<td>28 min  3.597 sec</td>\n<td>5.0</td>\n<td>4.5793262</td>\n<td>1.9132777</td>\n<td>20.9702289</td></tr>\n<tr><td>---</td>\n<td>---</td>\n<td>---</td>\n<td>---</td>\n<td>---</td>\n<td>---</td>\n<td>---</td></tr>\n<tr><td></td>\n<td>2019-01-07 19:46:48</td>\n<td>30 min 48.292 sec</td>\n<td>43.0</td>\n<td>3.7894312</td>\n<td>1.6807265</td>\n<td>14.3597889</td></tr>\n<tr><td></td>\n<td>2019-01-07 19:46:56</td>\n<td>30 min 55.959 sec</td>\n<td>45.0</td>\n<td>3.7841176</td>\n<td>1.6772831</td>\n<td>14.3195463</td></tr>\n<tr><td></td>\n<td>2019-01-07 19:47:04</td>\n<td>31 min  4.789 sec</td>\n<td>47.0</td>\n<td>3.7808008</td>\n<td>1.6754934</td>\n<td>14.2944545</td></tr>\n<tr><td></td>\n<td>2019-01-07 19:47:12</td>\n<td>31 min 12.553 sec</td>\n<td>49.0</td>\n<td>3.7761439</td>\n<td>1.6724549</td>\n<td>14.2592627</td></tr>\n<tr><td></td>\n<td>2019-01-07 19:47:17</td>\n<td>31 min 16.885 sec</td>\n<td>50.0</td>\n<td>3.7751261</td>\n<td>1.6717041</td>\n<td>14.2515768</td></tr></table></div>"
          },
          "metadata": {}
        },
        {
          "output_type": "stream",
          "text": "\nSee the whole table with table.as_data_frame()\nVariable Importances: \n",
          "name": "stdout"
        },
        {
          "output_type": "display_data",
          "data": {
            "text/plain": "variable                    relative_importance    scaled_importance     percentage\n--------------------------  ---------------------  --------------------  ---------------------\nweekofyear                  3983742.25             1.0                   0.05779823301661008\nhist_month_diff_mean        2520581.5              0.6327170137576045    0.036569925394735706\nmonth                       2128703.75             0.5343477605761267    0.030884356377682737\nhist_authorized_flag_mean   1721233.0              0.4320643485406216    0.02497255589512068\nhist_category_1_sum         1558961.0              0.3913307895358943    0.022618228160169614\n---                         ---                    ---                   ---\nnew_category_3_A_mean       172282.0               0.043246271768711944  0.002499558092787659\nnew_category_2_2_mean       166570.640625          0.041812604875478575  0.0024166946796243573\nnew_purchase_month_nunique  120683.8828125         0.030294099175844018  0.001750945403193728\nnew_month_lag_min           115067.6875            0.02888432038995495   0.0016694626804250377\nnew_purchase_year_nunique   56708.08984375         0.014234879237920073  0.0008227508671566093",
            "text/html": "<div style=\"overflow:auto\"><table style=\"width:50%\"><tr><td><b>variable</b></td>\n<td><b>relative_importance</b></td>\n<td><b>scaled_importance</b></td>\n<td><b>percentage</b></td></tr>\n<tr><td>weekofyear</td>\n<td>3983742.2500000</td>\n<td>1.0</td>\n<td>0.0577982</td></tr>\n<tr><td>hist_month_diff_mean</td>\n<td>2520581.5</td>\n<td>0.6327170</td>\n<td>0.0365699</td></tr>\n<tr><td>month</td>\n<td>2128703.7500000</td>\n<td>0.5343478</td>\n<td>0.0308844</td></tr>\n<tr><td>hist_authorized_flag_mean</td>\n<td>1721233.0</td>\n<td>0.4320643</td>\n<td>0.0249726</td></tr>\n<tr><td>hist_category_1_sum</td>\n<td>1558961.0</td>\n<td>0.3913308</td>\n<td>0.0226182</td></tr>\n<tr><td>---</td>\n<td>---</td>\n<td>---</td>\n<td>---</td></tr>\n<tr><td>new_category_3_A_mean</td>\n<td>172282.0</td>\n<td>0.0432463</td>\n<td>0.0024996</td></tr>\n<tr><td>new_category_2_2_mean</td>\n<td>166570.6406250</td>\n<td>0.0418126</td>\n<td>0.0024167</td></tr>\n<tr><td>new_purchase_month_nunique</td>\n<td>120683.8828125</td>\n<td>0.0302941</td>\n<td>0.0017509</td></tr>\n<tr><td>new_month_lag_min</td>\n<td>115067.6875000</td>\n<td>0.0288843</td>\n<td>0.0016695</td></tr>\n<tr><td>new_purchase_year_nunique</td>\n<td>56708.0898438</td>\n<td>0.0142349</td>\n<td>0.0008228</td></tr></table></div>"
          },
          "metadata": {}
        },
        {
          "output_type": "stream",
          "text": "\nSee the whole table with table.as_data_frame()\n",
          "name": "stdout"
        },
        {
          "output_type": "execute_result",
          "execution_count": 7,
          "data": {
            "text/plain": ""
          },
          "metadata": {}
        }
      ]
    },
    {
      "metadata": {
        "trusted": true,
        "_uuid": "99f471458f371d4e0ae29c0d4a35bc023b1a386f"
      },
      "cell_type": "code",
      "source": "gbm = H2OGradientBoostingEstimator(nfolds=nfolds,\n                                   fold_assignment=\"Modulo\",\n                                   keep_cross_validation_predictions=True,\n                                   seed=42,\n                                   max_depth = 6,\n                                   ntrees = 10000,\n                                   learn_rate=0.01,\n                                   learn_rate_annealing=0.999,\n                                   stopping_rounds = 5,\n                                   stopping_tolerance = 0.001,\n                                   stopping_metric = \"rmse\",\n                                   sample_rate = 0.8,\n                                   col_sample_rate = 0.8,\n                                   score_tree_interval = 10)\ngbm.train(x=predictors, y=response, training_frame=train)\ngbm",
      "execution_count": 8,
      "outputs": [
        {
          "output_type": "stream",
          "text": "gbm Model Build progress: |███████████████████████████████████████████████| 100%\nModel Details\n=============\nH2OGradientBoostingEstimator :  Gradient Boosting Machine\nModel Key:  GBM_model_python_1546888541236_3\n\n\nModelMetricsRegression: gbm\n** Reported on train data. **\n\nMSE: 12.859487099150435\nRMSE: 3.5860127020341737\nMAE: 1.5416103356588835\nRMSLE: NaN\nMean Residual Deviance: 12.859487099150435\n\nModelMetricsRegression: gbm\n** Reported on cross-validation data. **\n\nMSE: 13.504546072679164\nRMSE: 3.6748532042353967\nMAE: 1.564044290444925\nRMSLE: NaN\nMean Residual Deviance: 13.504546072679164\nCross-Validation Metrics Summary: \n",
          "name": "stdout"
        },
        {
          "output_type": "display_data",
          "data": {
            "text/plain": "                        mean       sd          cv_1_valid    cv_2_valid    cv_3_valid    cv_4_valid    cv_5_valid    cv_6_valid\n----------------------  ---------  ----------  ------------  ------------  ------------  ------------  ------------  ------------\nmae                     1.56404    0.0184761   1.55899       1.54954       1.58603       1.60103       1.51951       1.56916\nmean_residual_deviance  13.5045    0.570333    13.4303       13.3731       14.0044       14.7456       12.0617       13.4122\nmse                     13.5045    0.570333    13.4303       13.3731       14.0044       14.7456       12.0617       13.4122\nr2                      0.0890768  0.00840256  0.0931331     0.0678547     0.0819251     0.0989318     0.104294      0.0883222\nresidual_deviance       13.5045    0.570333    13.4303       13.3731       14.0044       14.7456       12.0617       13.4122\nrmse                    3.67319    0.0780653   3.66473       3.65693       3.74225       3.84          3.47299       3.66227\nrmsle                   0          nan         nan           nan           nan           nan           nan           nan",
            "text/html": "<div style=\"overflow:auto\"><table style=\"width:50%\"><tr><td><b></b></td>\n<td><b>mean</b></td>\n<td><b>sd</b></td>\n<td><b>cv_1_valid</b></td>\n<td><b>cv_2_valid</b></td>\n<td><b>cv_3_valid</b></td>\n<td><b>cv_4_valid</b></td>\n<td><b>cv_5_valid</b></td>\n<td><b>cv_6_valid</b></td></tr>\n<tr><td>mae</td>\n<td>1.5640444</td>\n<td>0.0184761</td>\n<td>1.5589854</td>\n<td>1.5495439</td>\n<td>1.5860294</td>\n<td>1.6010317</td>\n<td>1.5195141</td>\n<td>1.5691615</td></tr>\n<tr><td>mean_residual_deviance</td>\n<td>13.504545</td>\n<td>0.5703331</td>\n<td>13.43026</td>\n<td>13.37311</td>\n<td>14.004401</td>\n<td>14.745635</td>\n<td>12.061675</td>\n<td>13.412193</td></tr>\n<tr><td>mse</td>\n<td>13.504545</td>\n<td>0.5703331</td>\n<td>13.43026</td>\n<td>13.37311</td>\n<td>14.004401</td>\n<td>14.745635</td>\n<td>12.061675</td>\n<td>13.412193</td></tr>\n<tr><td>r2</td>\n<td>0.0890768</td>\n<td>0.0084026</td>\n<td>0.0931331</td>\n<td>0.0678547</td>\n<td>0.0819251</td>\n<td>0.0989318</td>\n<td>0.1042942</td>\n<td>0.0883222</td></tr>\n<tr><td>residual_deviance</td>\n<td>13.504545</td>\n<td>0.5703331</td>\n<td>13.43026</td>\n<td>13.37311</td>\n<td>14.004401</td>\n<td>14.745635</td>\n<td>12.061675</td>\n<td>13.412193</td></tr>\n<tr><td>rmse</td>\n<td>3.6731944</td>\n<td>0.0780653</td>\n<td>3.6647317</td>\n<td>3.6569262</td>\n<td>3.7422454</td>\n<td>3.8400044</td>\n<td>3.4729922</td>\n<td>3.6622663</td></tr>\n<tr><td>rmsle</td>\n<td>0.0</td>\n<td>NaN</td>\n<td>NaN</td>\n<td>NaN</td>\n<td>NaN</td>\n<td>NaN</td>\n<td>NaN</td>\n<td>NaN</td></tr></table></div>"
          },
          "metadata": {}
        },
        {
          "output_type": "stream",
          "text": "Scoring History: \n",
          "name": "stdout"
        },
        {
          "output_type": "display_data",
          "data": {
            "text/plain": "     timestamp            duration           number_of_trees    training_rmse       training_mae        training_deviance\n---  -------------------  -----------------  -----------------  ------------------  ------------------  -------------------\n     2019-01-07 20:11:27  24 min 10.445 sec  0.0                3.850490394904841   1.5897827547964873  14.826276281254438\n     2019-01-07 20:11:33  24 min 16.314 sec  10.0               3.820655806101842   1.5746783685591654  14.597410788699717\n     2019-01-07 20:11:39  24 min 22.015 sec  20.0               3.7954829238187866  1.5640910142058706  14.405690625000004\n     2019-01-07 20:11:44  24 min 27.658 sec  30.0               3.773808475801414   1.5562417259294685  14.241630412030593\n     2019-01-07 20:11:50  24 min 33.291 sec  40.0               3.755372344855823   1.5506425169604354  14.102821448507923\n---  ---                  ---                ---                ---                 ---                 ---\n     2019-01-07 20:14:16  26 min 59.593 sec  290.0              3.5939114497504643  1.5418987791936292  12.916199508647484\n     2019-01-07 20:14:22  27 min  5.509 sec  300.0              3.5916069396756467  1.5419386435535019  12.899640409126265\n     2019-01-07 20:14:28  27 min 11.468 sec  310.0              3.5893295597069614  1.541835748674524   12.88328668818617\n     2019-01-07 20:14:34  27 min 17.355 sec  320.0              3.5869854978319395  1.5416149170603664  12.866464961656646\n     2019-01-07 20:14:37  27 min 20.331 sec  325.0              3.5860127020341737  1.5416103356588835  12.859487099150435",
            "text/html": "<div style=\"overflow:auto\"><table style=\"width:50%\"><tr><td><b></b></td>\n<td><b>timestamp</b></td>\n<td><b>duration</b></td>\n<td><b>number_of_trees</b></td>\n<td><b>training_rmse</b></td>\n<td><b>training_mae</b></td>\n<td><b>training_deviance</b></td></tr>\n<tr><td></td>\n<td>2019-01-07 20:11:27</td>\n<td>24 min 10.445 sec</td>\n<td>0.0</td>\n<td>3.8504904</td>\n<td>1.5897828</td>\n<td>14.8262763</td></tr>\n<tr><td></td>\n<td>2019-01-07 20:11:33</td>\n<td>24 min 16.314 sec</td>\n<td>10.0</td>\n<td>3.8206558</td>\n<td>1.5746784</td>\n<td>14.5974108</td></tr>\n<tr><td></td>\n<td>2019-01-07 20:11:39</td>\n<td>24 min 22.015 sec</td>\n<td>20.0</td>\n<td>3.7954829</td>\n<td>1.5640910</td>\n<td>14.4056906</td></tr>\n<tr><td></td>\n<td>2019-01-07 20:11:44</td>\n<td>24 min 27.658 sec</td>\n<td>30.0</td>\n<td>3.7738085</td>\n<td>1.5562417</td>\n<td>14.2416304</td></tr>\n<tr><td></td>\n<td>2019-01-07 20:11:50</td>\n<td>24 min 33.291 sec</td>\n<td>40.0</td>\n<td>3.7553723</td>\n<td>1.5506425</td>\n<td>14.1028214</td></tr>\n<tr><td>---</td>\n<td>---</td>\n<td>---</td>\n<td>---</td>\n<td>---</td>\n<td>---</td>\n<td>---</td></tr>\n<tr><td></td>\n<td>2019-01-07 20:14:16</td>\n<td>26 min 59.593 sec</td>\n<td>290.0</td>\n<td>3.5939114</td>\n<td>1.5418988</td>\n<td>12.9161995</td></tr>\n<tr><td></td>\n<td>2019-01-07 20:14:22</td>\n<td>27 min  5.509 sec</td>\n<td>300.0</td>\n<td>3.5916069</td>\n<td>1.5419386</td>\n<td>12.8996404</td></tr>\n<tr><td></td>\n<td>2019-01-07 20:14:28</td>\n<td>27 min 11.468 sec</td>\n<td>310.0</td>\n<td>3.5893296</td>\n<td>1.5418357</td>\n<td>12.8832867</td></tr>\n<tr><td></td>\n<td>2019-01-07 20:14:34</td>\n<td>27 min 17.355 sec</td>\n<td>320.0</td>\n<td>3.5869855</td>\n<td>1.5416149</td>\n<td>12.8664650</td></tr>\n<tr><td></td>\n<td>2019-01-07 20:14:37</td>\n<td>27 min 20.331 sec</td>\n<td>325.0</td>\n<td>3.5860127</td>\n<td>1.5416103</td>\n<td>12.8594871</td></tr></table></div>"
          },
          "metadata": {}
        },
        {
          "output_type": "stream",
          "text": "\nSee the whole table with table.as_data_frame()\nVariable Importances: \n",
          "name": "stdout"
        },
        {
          "output_type": "display_data",
          "data": {
            "text/plain": "variable                     relative_importance    scaled_importance       percentage\n---------------------------  ---------------------  ----------------------  ----------------------\nhist_month_diff_mean         3248946.0              1.0                     0.16374604589060074\nhist_category_1_sum          1902634.375            0.5856158812734961      0.09589228496927449\nweekofyear                   1769789.0              0.5447271207339242      0.08919691210955197\nnew_month_lag_mean           1178773.375            0.3628171643973153      0.05940987605130043\nhist_purchase_month_nunique  1072845.5              0.33021339843752406     0.054071138294242045\n---                          ---                    ---                     ---\nhist_purchase_amount_max     2437.587158203125      0.0007502701362851598   0.00012285376816649707\nnew_category_2_2_mean        2362.580810546875      0.0007271837729980353   0.0001190734674642365\nnew_category_2_5_sum         902.0308227539062      0.00027763798559714633  4.546212233056428e-05\nnew_purchase_month_nunique   477.7110900878906      0.00014703571253196903  2.407651653181698e-05\nhist_purchase_amount_var     0.0                    0.0                     0.0",
            "text/html": "<div style=\"overflow:auto\"><table style=\"width:50%\"><tr><td><b>variable</b></td>\n<td><b>relative_importance</b></td>\n<td><b>scaled_importance</b></td>\n<td><b>percentage</b></td></tr>\n<tr><td>hist_month_diff_mean</td>\n<td>3248946.0</td>\n<td>1.0</td>\n<td>0.1637460</td></tr>\n<tr><td>hist_category_1_sum</td>\n<td>1902634.3750000</td>\n<td>0.5856159</td>\n<td>0.0958923</td></tr>\n<tr><td>weekofyear</td>\n<td>1769789.0</td>\n<td>0.5447271</td>\n<td>0.0891969</td></tr>\n<tr><td>new_month_lag_mean</td>\n<td>1178773.3750000</td>\n<td>0.3628172</td>\n<td>0.0594099</td></tr>\n<tr><td>hist_purchase_month_nunique</td>\n<td>1072845.5</td>\n<td>0.3302134</td>\n<td>0.0540711</td></tr>\n<tr><td>---</td>\n<td>---</td>\n<td>---</td>\n<td>---</td></tr>\n<tr><td>hist_purchase_amount_max</td>\n<td>2437.5871582</td>\n<td>0.0007503</td>\n<td>0.0001229</td></tr>\n<tr><td>new_category_2_2_mean</td>\n<td>2362.5808105</td>\n<td>0.0007272</td>\n<td>0.0001191</td></tr>\n<tr><td>new_category_2_5_sum</td>\n<td>902.0308228</td>\n<td>0.0002776</td>\n<td>0.0000455</td></tr>\n<tr><td>new_purchase_month_nunique</td>\n<td>477.7110901</td>\n<td>0.0001470</td>\n<td>0.0000241</td></tr>\n<tr><td>hist_purchase_amount_var</td>\n<td>0.0</td>\n<td>0.0</td>\n<td>0.0</td></tr></table></div>"
          },
          "metadata": {}
        },
        {
          "output_type": "stream",
          "text": "\nSee the whole table with table.as_data_frame()\n",
          "name": "stdout"
        },
        {
          "output_type": "execute_result",
          "execution_count": 8,
          "data": {
            "text/plain": ""
          },
          "metadata": {}
        }
      ]
    },
    {
      "metadata": {
        "trusted": true,
        "_uuid": "f6599e9488d447643a631cdccba0543bfe7053b3"
      },
      "cell_type": "code",
      "source": "ensemble = H2OStackedEnsembleEstimator(base_models=[glm, rf, gbm])\nensemble.train(x=predictors, y=response, training_frame=train)\n",
      "execution_count": 9,
      "outputs": [
        {
          "output_type": "stream",
          "text": "stackedensemble Model Build progress: |███████████████████████████████████| 100%\n",
          "name": "stdout"
        }
      ]
    },
    {
      "metadata": {
        "trusted": true,
        "_uuid": "4ee7b7fd8ccaa26dee107731c59c95c73f73886a",
        "scrolled": true
      },
      "cell_type": "code",
      "source": "# Output Summary\nensemble",
      "execution_count": 13,
      "outputs": [
        {
          "output_type": "stream",
          "text": "Model Details\n=============\nH2OStackedEnsembleEstimator :  Stacked Ensemble\nModel Key:  StackedEnsemble_model_python_1546888541236_4\nNo model summary for this model\n\n\nModelMetricsRegressionGLM: stackedensemble\n** Reported on train data. **\n\nMSE: 11.997079353114868\nRMSE: 3.4636800304177733\nMAE: 1.521865343346612\nRMSLE: NaN\nR^2: 0.19082316250350317\nMean Residual Deviance: 11.997079353114868\nNull degrees of freedom: 201916\nResidual degrees of freedom: 201914\nNull deviance: 2993677.2278820523\nResidual deviance: 2422414.271742895\nAIC: 1074719.3696205097\n",
          "name": "stdout"
        },
        {
          "output_type": "execute_result",
          "execution_count": 13,
          "data": {
            "text/plain": ""
          },
          "metadata": {}
        }
      ]
    },
    {
      "metadata": {
        "trusted": true,
        "_uuid": "caed68f4aefc78008790771d741fb8c53b64a966"
      },
      "cell_type": "code",
      "source": "# Predict target variable for test data\npredictions = ensemble.predict(test)",
      "execution_count": 14,
      "outputs": [
        {
          "output_type": "stream",
          "text": "stackedensemble prediction progress: |████████████████████████████████████| 100%\n",
          "name": "stdout"
        }
      ]
    },
    {
      "metadata": {
        "trusted": true,
        "_uuid": "60d6757f7c9e344bfc07ddc7dd43d6318fffd679"
      },
      "cell_type": "code",
      "source": "# Create submission dataframe and csv export file\nsub_df = pd.DataFrame({\"card_id\": test[\"card_id\"].as_data_frame().card_id})\nsub_df[\"target\"] = predictions.as_data_frame()   \nsub_df.to_csv(\"submit.csv\", index=False)",
      "execution_count": 12,
      "outputs": []
    },
    {
      "metadata": {
        "trusted": true,
        "_uuid": "2f3ada29d5c16e2d01533d1333f14f1aa785266c"
      },
      "cell_type": "code",
      "source": "",
      "execution_count": null,
      "outputs": []
    }
  ],
  "metadata": {
    "kernelspec": {
      "display_name": "Python 3",
      "language": "python",
      "name": "python3"
    },
    "language_info": {
      "name": "python",
      "version": "3.6.6",
      "mimetype": "text/x-python",
      "codemirror_mode": {
        "name": "ipython",
        "version": 3
      },
      "pygments_lexer": "ipython3",
      "nbconvert_exporter": "python",
      "file_extension": ".py"
    }
  },
  "nbformat": 4,
  "nbformat_minor": 1
}