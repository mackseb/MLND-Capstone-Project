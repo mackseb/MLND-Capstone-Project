{
  "cells": [
    {
      "metadata": {
        "_uuid": "8f2839f25d086af736a60e9eeb907d3b93b6e0e5",
        "_cell_guid": "b1076dfc-b9ad-4769-8c92-a6c4dae69d19",
        "trusted": true
      },
      "cell_type": "code",
      "source": "# Import of required modules\nimport numpy as np\nimport pandas as pd\nimport datetime\nimport gc",
      "execution_count": 1,
      "outputs": []
    },
    {
      "metadata": {
        "trusted": true,
        "_uuid": "79faa051cbce35dc0435ec2154554dca7bcaa5e9"
      },
      "cell_type": "code",
      "source": "# Customized function for loading train/test data and applying correct data transformations\ndef load_df_main(path, **kwargs):\n    df = pd.read_csv(path, **kwargs)\n    \n    df[\"first_active_month\"] = pd.to_datetime(df[\"first_active_month\"])\n    \n    categories = [\"feature_1\", \"feature_2\", \"feature_3\"]\n    for feature in categories:\n        df[feature] = df[feature].astype(\"category\")\n        \n    return df",
      "execution_count": 2,
      "outputs": []
    },
    {
      "metadata": {
        "trusted": true,
        "_uuid": "335ec309fdc8d121bee756d783864e6bb71fefcb"
      },
      "cell_type": "code",
      "source": "# Load train data\ntrain = load_df_main(\"../input/train.csv\")",
      "execution_count": 3,
      "outputs": []
    },
    {
      "metadata": {
        "trusted": true,
        "_uuid": "093c0f8e40175b0f4c43abe2fd7927432e928154"
      },
      "cell_type": "code",
      "source": "train.head()",
      "execution_count": 4,
      "outputs": [
        {
          "output_type": "execute_result",
          "execution_count": 4,
          "data": {
            "text/plain": "  first_active_month          card_id    ...    feature_3    target\n0         2017-06-01  C_ID_92a2005557    ...            1 -0.820283\n1         2017-01-01  C_ID_3d0044924f    ...            0  0.392913\n2         2016-08-01  C_ID_d639edf6cd    ...            0  0.688056\n3         2017-09-01  C_ID_186d6a6901    ...            0  0.142495\n4         2017-11-01  C_ID_cdbd2c0db2    ...            0 -0.159749\n\n[5 rows x 6 columns]",
            "text/html": "<div>\n<style scoped>\n    .dataframe tbody tr th:only-of-type {\n        vertical-align: middle;\n    }\n\n    .dataframe tbody tr th {\n        vertical-align: top;\n    }\n\n    .dataframe thead th {\n        text-align: right;\n    }\n</style>\n<table border=\"1\" class=\"dataframe\">\n  <thead>\n    <tr style=\"text-align: right;\">\n      <th></th>\n      <th>first_active_month</th>\n      <th>card_id</th>\n      <th>feature_1</th>\n      <th>feature_2</th>\n      <th>feature_3</th>\n      <th>target</th>\n    </tr>\n  </thead>\n  <tbody>\n    <tr>\n      <th>0</th>\n      <td>2017-06-01</td>\n      <td>C_ID_92a2005557</td>\n      <td>5</td>\n      <td>2</td>\n      <td>1</td>\n      <td>-0.820283</td>\n    </tr>\n    <tr>\n      <th>1</th>\n      <td>2017-01-01</td>\n      <td>C_ID_3d0044924f</td>\n      <td>4</td>\n      <td>1</td>\n      <td>0</td>\n      <td>0.392913</td>\n    </tr>\n    <tr>\n      <th>2</th>\n      <td>2016-08-01</td>\n      <td>C_ID_d639edf6cd</td>\n      <td>2</td>\n      <td>2</td>\n      <td>0</td>\n      <td>0.688056</td>\n    </tr>\n    <tr>\n      <th>3</th>\n      <td>2017-09-01</td>\n      <td>C_ID_186d6a6901</td>\n      <td>4</td>\n      <td>3</td>\n      <td>0</td>\n      <td>0.142495</td>\n    </tr>\n    <tr>\n      <th>4</th>\n      <td>2017-11-01</td>\n      <td>C_ID_cdbd2c0db2</td>\n      <td>1</td>\n      <td>3</td>\n      <td>0</td>\n      <td>-0.159749</td>\n    </tr>\n  </tbody>\n</table>\n</div>"
          },
          "metadata": {}
        }
      ]
    },
    {
      "metadata": {
        "trusted": true,
        "_uuid": "28973bd30a2bb16e72bfa7b2bfbbb90329de18d8"
      },
      "cell_type": "code",
      "source": "train.describe(include=\"all\")",
      "execution_count": 5,
      "outputs": [
        {
          "output_type": "execute_result",
          "execution_count": 5,
          "data": {
            "text/plain": "         first_active_month      ...               target\ncount                201917      ...        201917.000000\nunique                   75      ...                  NaN\ntop     2017-09-01 00:00:00      ...                  NaN\nfreq                  13878      ...                  NaN\nfirst   2011-11-01 00:00:00      ...                  NaN\nlast    2018-02-01 00:00:00      ...                  NaN\nmean                    NaN      ...            -0.393636\nstd                     NaN      ...             3.850500\nmin                     NaN      ...           -33.219281\n25%                     NaN      ...            -0.883110\n50%                     NaN      ...            -0.023437\n75%                     NaN      ...             0.765453\nmax                     NaN      ...            17.965068\n\n[13 rows x 6 columns]",
            "text/html": "<div>\n<style scoped>\n    .dataframe tbody tr th:only-of-type {\n        vertical-align: middle;\n    }\n\n    .dataframe tbody tr th {\n        vertical-align: top;\n    }\n\n    .dataframe thead th {\n        text-align: right;\n    }\n</style>\n<table border=\"1\" class=\"dataframe\">\n  <thead>\n    <tr style=\"text-align: right;\">\n      <th></th>\n      <th>first_active_month</th>\n      <th>card_id</th>\n      <th>feature_1</th>\n      <th>feature_2</th>\n      <th>feature_3</th>\n      <th>target</th>\n    </tr>\n  </thead>\n  <tbody>\n    <tr>\n      <th>count</th>\n      <td>201917</td>\n      <td>201917</td>\n      <td>201917.0</td>\n      <td>201917.0</td>\n      <td>201917.0</td>\n      <td>201917.000000</td>\n    </tr>\n    <tr>\n      <th>unique</th>\n      <td>75</td>\n      <td>201917</td>\n      <td>5.0</td>\n      <td>3.0</td>\n      <td>2.0</td>\n      <td>NaN</td>\n    </tr>\n    <tr>\n      <th>top</th>\n      <td>2017-09-01 00:00:00</td>\n      <td>C_ID_b61fedab1b</td>\n      <td>3.0</td>\n      <td>1.0</td>\n      <td>1.0</td>\n      <td>NaN</td>\n    </tr>\n    <tr>\n      <th>freq</th>\n      <td>13878</td>\n      <td>1</td>\n      <td>73573.0</td>\n      <td>89242.0</td>\n      <td>114198.0</td>\n      <td>NaN</td>\n    </tr>\n    <tr>\n      <th>first</th>\n      <td>2011-11-01 00:00:00</td>\n      <td>NaN</td>\n      <td>NaN</td>\n      <td>NaN</td>\n      <td>NaN</td>\n      <td>NaN</td>\n    </tr>\n    <tr>\n      <th>last</th>\n      <td>2018-02-01 00:00:00</td>\n      <td>NaN</td>\n      <td>NaN</td>\n      <td>NaN</td>\n      <td>NaN</td>\n      <td>NaN</td>\n    </tr>\n    <tr>\n      <th>mean</th>\n      <td>NaN</td>\n      <td>NaN</td>\n      <td>NaN</td>\n      <td>NaN</td>\n      <td>NaN</td>\n      <td>-0.393636</td>\n    </tr>\n    <tr>\n      <th>std</th>\n      <td>NaN</td>\n      <td>NaN</td>\n      <td>NaN</td>\n      <td>NaN</td>\n      <td>NaN</td>\n      <td>3.850500</td>\n    </tr>\n    <tr>\n      <th>min</th>\n      <td>NaN</td>\n      <td>NaN</td>\n      <td>NaN</td>\n      <td>NaN</td>\n      <td>NaN</td>\n      <td>-33.219281</td>\n    </tr>\n    <tr>\n      <th>25%</th>\n      <td>NaN</td>\n      <td>NaN</td>\n      <td>NaN</td>\n      <td>NaN</td>\n      <td>NaN</td>\n      <td>-0.883110</td>\n    </tr>\n    <tr>\n      <th>50%</th>\n      <td>NaN</td>\n      <td>NaN</td>\n      <td>NaN</td>\n      <td>NaN</td>\n      <td>NaN</td>\n      <td>-0.023437</td>\n    </tr>\n    <tr>\n      <th>75%</th>\n      <td>NaN</td>\n      <td>NaN</td>\n      <td>NaN</td>\n      <td>NaN</td>\n      <td>NaN</td>\n      <td>0.765453</td>\n    </tr>\n    <tr>\n      <th>max</th>\n      <td>NaN</td>\n      <td>NaN</td>\n      <td>NaN</td>\n      <td>NaN</td>\n      <td>NaN</td>\n      <td>17.965068</td>\n    </tr>\n  </tbody>\n</table>\n</div>"
          },
          "metadata": {}
        }
      ]
    },
    {
      "metadata": {
        "trusted": true,
        "_uuid": "016b6ecf0be692147d063261269e35297b7b64fb"
      },
      "cell_type": "code",
      "source": "train.info()",
      "execution_count": 6,
      "outputs": [
        {
          "output_type": "stream",
          "text": "<class 'pandas.core.frame.DataFrame'>\nRangeIndex: 201917 entries, 0 to 201916\nData columns (total 6 columns):\nfirst_active_month    201917 non-null datetime64[ns]\ncard_id               201917 non-null object\nfeature_1             201917 non-null category\nfeature_2             201917 non-null category\nfeature_3             201917 non-null category\ntarget                201917 non-null float64\ndtypes: category(3), datetime64[ns](1), float64(1), object(1)\nmemory usage: 5.2+ MB\n",
          "name": "stdout"
        }
      ]
    },
    {
      "metadata": {
        "trusted": true,
        "_uuid": "86e900fcfc0dd290b36cbe59914c65ab7a1e19f5"
      },
      "cell_type": "code",
      "source": "# Load test data\ntest = load_df_main(\"../input/test.csv\")",
      "execution_count": 7,
      "outputs": []
    },
    {
      "metadata": {
        "trusted": true,
        "_uuid": "de15fc42de13e6ce7c2c65ba2d7e6e6113a5a4b6"
      },
      "cell_type": "code",
      "source": "test.head()",
      "execution_count": 8,
      "outputs": [
        {
          "output_type": "execute_result",
          "execution_count": 8,
          "data": {
            "text/plain": "  first_active_month          card_id feature_1 feature_2 feature_3\n0         2017-04-01  C_ID_0ab67a22ab         3         3         1\n1         2017-01-01  C_ID_130fd0cbdd         2         3         0\n2         2017-08-01  C_ID_b709037bc5         5         1         1\n3         2017-12-01  C_ID_d27d835a9f         2         1         0\n4         2015-12-01  C_ID_2b5e3df5c2         5         1         1",
            "text/html": "<div>\n<style scoped>\n    .dataframe tbody tr th:only-of-type {\n        vertical-align: middle;\n    }\n\n    .dataframe tbody tr th {\n        vertical-align: top;\n    }\n\n    .dataframe thead th {\n        text-align: right;\n    }\n</style>\n<table border=\"1\" class=\"dataframe\">\n  <thead>\n    <tr style=\"text-align: right;\">\n      <th></th>\n      <th>first_active_month</th>\n      <th>card_id</th>\n      <th>feature_1</th>\n      <th>feature_2</th>\n      <th>feature_3</th>\n    </tr>\n  </thead>\n  <tbody>\n    <tr>\n      <th>0</th>\n      <td>2017-04-01</td>\n      <td>C_ID_0ab67a22ab</td>\n      <td>3</td>\n      <td>3</td>\n      <td>1</td>\n    </tr>\n    <tr>\n      <th>1</th>\n      <td>2017-01-01</td>\n      <td>C_ID_130fd0cbdd</td>\n      <td>2</td>\n      <td>3</td>\n      <td>0</td>\n    </tr>\n    <tr>\n      <th>2</th>\n      <td>2017-08-01</td>\n      <td>C_ID_b709037bc5</td>\n      <td>5</td>\n      <td>1</td>\n      <td>1</td>\n    </tr>\n    <tr>\n      <th>3</th>\n      <td>2017-12-01</td>\n      <td>C_ID_d27d835a9f</td>\n      <td>2</td>\n      <td>1</td>\n      <td>0</td>\n    </tr>\n    <tr>\n      <th>4</th>\n      <td>2015-12-01</td>\n      <td>C_ID_2b5e3df5c2</td>\n      <td>5</td>\n      <td>1</td>\n      <td>1</td>\n    </tr>\n  </tbody>\n</table>\n</div>"
          },
          "metadata": {}
        }
      ]
    },
    {
      "metadata": {
        "trusted": true,
        "_uuid": "9c52ee02739b80dfd349ae10a7b20009b9552da9"
      },
      "cell_type": "code",
      "source": "test.describe(include=\"all\")",
      "execution_count": 9,
      "outputs": [
        {
          "output_type": "execute_result",
          "execution_count": 9,
          "data": {
            "text/plain": "         first_active_month          card_id    ...      feature_2  feature_3\ncount                123622           123623    ...       123623.0   123623.0\nunique                   75           123623    ...            3.0        2.0\ntop     2017-09-01 00:00:00  C_ID_fa2ff19bbf    ...            1.0        1.0\nfreq                   8805                1    ...        54775.0    69770.0\nfirst   2011-11-01 00:00:00              NaN    ...            NaN        NaN\nlast    2018-01-01 00:00:00              NaN    ...            NaN        NaN\n\n[6 rows x 5 columns]",
            "text/html": "<div>\n<style scoped>\n    .dataframe tbody tr th:only-of-type {\n        vertical-align: middle;\n    }\n\n    .dataframe tbody tr th {\n        vertical-align: top;\n    }\n\n    .dataframe thead th {\n        text-align: right;\n    }\n</style>\n<table border=\"1\" class=\"dataframe\">\n  <thead>\n    <tr style=\"text-align: right;\">\n      <th></th>\n      <th>first_active_month</th>\n      <th>card_id</th>\n      <th>feature_1</th>\n      <th>feature_2</th>\n      <th>feature_3</th>\n    </tr>\n  </thead>\n  <tbody>\n    <tr>\n      <th>count</th>\n      <td>123622</td>\n      <td>123623</td>\n      <td>123623.0</td>\n      <td>123623.0</td>\n      <td>123623.0</td>\n    </tr>\n    <tr>\n      <th>unique</th>\n      <td>75</td>\n      <td>123623</td>\n      <td>5.0</td>\n      <td>3.0</td>\n      <td>2.0</td>\n    </tr>\n    <tr>\n      <th>top</th>\n      <td>2017-09-01 00:00:00</td>\n      <td>C_ID_fa2ff19bbf</td>\n      <td>3.0</td>\n      <td>1.0</td>\n      <td>1.0</td>\n    </tr>\n    <tr>\n      <th>freq</th>\n      <td>8805</td>\n      <td>1</td>\n      <td>44719.0</td>\n      <td>54775.0</td>\n      <td>69770.0</td>\n    </tr>\n    <tr>\n      <th>first</th>\n      <td>2011-11-01 00:00:00</td>\n      <td>NaN</td>\n      <td>NaN</td>\n      <td>NaN</td>\n      <td>NaN</td>\n    </tr>\n    <tr>\n      <th>last</th>\n      <td>2018-01-01 00:00:00</td>\n      <td>NaN</td>\n      <td>NaN</td>\n      <td>NaN</td>\n      <td>NaN</td>\n    </tr>\n  </tbody>\n</table>\n</div>"
          },
          "metadata": {}
        }
      ]
    },
    {
      "metadata": {
        "trusted": true,
        "_uuid": "7283fe558bebbf186487c588b00370cb6d8ce4fa"
      },
      "cell_type": "code",
      "source": "test.info()",
      "execution_count": 10,
      "outputs": [
        {
          "output_type": "stream",
          "text": "<class 'pandas.core.frame.DataFrame'>\nRangeIndex: 123623 entries, 0 to 123622\nData columns (total 5 columns):\nfirst_active_month    123622 non-null datetime64[ns]\ncard_id               123623 non-null object\nfeature_1             123623 non-null category\nfeature_2             123623 non-null category\nfeature_3             123623 non-null category\ndtypes: category(3), datetime64[ns](1), object(1)\nmemory usage: 2.2+ MB\n",
          "name": "stdout"
        }
      ]
    },
    {
      "metadata": {
        "trusted": true,
        "_uuid": "d8ac6393446522ec90fd6a1224bb38224b003d5f"
      },
      "cell_type": "code",
      "source": "# Customized function for loading historical_transactions / new_merchant_transactions\ndef load_df_transactions(path, **kwargs):\n    df = pd.read_csv(path, **kwargs)\n    \n    # Apply correct data types to features\n    df[\"purchase_date\"] = pd.to_datetime(df[\"purchase_date\"])\n    categories = [\"authorized_flag\", \"city_id\", \"category_1\", \"category_3\", \"merchant_category_id\", \"state_id\", \"subsector_id\"]\n    for feature in categories:\n        df[feature] = df[feature].astype(\"category\")\n\n    strings = [\"card_id\", \"merchant_id\"]\n    for feature in strings:\n        df[feature] = df[feature].astype(\"str\")\n\n    ints = [\"month_lag\", \"installments\"]\n    for feature in ints:\n        df[feature] = df[feature].astype(\"int16\")\n\n    floats = [\"purchase_amount\"]\n    for feature in floats:\n        df[feature] = df[feature].astype(\"float32\")\n    \n    # Fill missing values with most dominant value\n    df[\"category_2\"].fillna(1.0,inplace=True)\n    df[\"category_2\"] = df[\"category_2\"].astype(\"str\").apply(lambda x: x[:1] if x != \"nan\" else x).astype(\"category\") #workaround to transform e.g. 1.0000 to 1\n    df[\"category_3\"].fillna(\"A\",inplace=True)\n    df[\"merchant_id\"].fillna(\"M_ID_00a6ca8a8a\",inplace=True)\n    \n    return df",
      "execution_count": 11,
      "outputs": []
    },
    {
      "metadata": {
        "_uuid": "0c87f11bba10b57ad545b5559fc762ec6bfd3d8d"
      },
      "cell_type": "markdown",
      "source": "## Feature Engineering"
    },
    {
      "metadata": {
        "trusted": true,
        "_uuid": "ab34abcc513feae55b3467582e38f20334cb3e10"
      },
      "cell_type": "code",
      "source": "# Add new features to historical_transactions / new_merchant_transactions\ndef add_features_transactions(df):\n    df[\"purchase_year\"] = df[\"purchase_date\"].dt.year\n    df[\"purchase_weekofyear\"] = df[\"purchase_date\"].dt.weekofyear\n    df[\"purchase_month\"] = df[\"purchase_date\"].dt.month\n    df[\"purchase_dayofweek\"] = df[\"purchase_date\"].dt.dayofweek\n    df[\"purchase_weekend\"] = (df.purchase_date.dt.weekday >=5).astype(int)\n    df[\"purchase_hour\"] = df[\"purchase_date\"].dt.hour\n    df[\"authorized_flag\"] = df[\"authorized_flag\"].map({\"Y\":1, \"N\":0}) # Map into binary\n    df[\"category_1\"] = df[\"category_1\"].map({\"Y\":1, \"N\":0}) # Map into binary\n    df[\"month_diff\"] = ((datetime.datetime.today() - df[\"purchase_date\"]).dt.days)//30\n    df[\"month_diff\"] += df[\"month_lag\"]\n    df = pd.get_dummies(df, columns=[\"category_2\", \"category_3\"]) # Get dummy variables for category\n    \n    return df",
      "execution_count": 12,
      "outputs": []
    },
    {
      "metadata": {
        "trusted": true,
        "_uuid": "50cf856999bdc9e183ad9628d45b4308ebed4c3f"
      },
      "cell_type": "code",
      "source": "# Aggregate features from historical_transactions / new_merchant_transactions\ndef aggregate_transactions(df, prefix):\n    \n    aggs = {}\n    aggs[\"purchase_date\"] = [\"max\",\"min\"]\n    aggs[\"month_diff\"] = [\"mean\"]\n    aggs[\"card_id\"] = [\"size\"]\n    \n    for col in [\"purchase_amount\", \"installments\", \"month_lag\"]:\n        aggs[col] = [\"sum\",\"max\",\"min\",\"mean\",\"var\"]\n        \n    for col in [\"authorized_flag\", \"purchase_weekend\", \"category_1\", \"category_2_1\", \"category_2_2\", \"category_2_3\", \"category_2_4\", \"category_2_5\", \"category_3_A\", \"category_3_B\", \"category_3_C\"]:\n        aggs[col] = [\"sum\", \"mean\"]\n        \n    for col in [\"purchase_year\", \"purchase_weekofyear\", \"purchase_month\", \"purchase_dayofweek\", \"purchase_hour\", \"subsector_id\", \"merchant_id\", \"merchant_category_id\"]:\n        aggs[col] = [\"nunique\"]\n    \n    df_agg = df.groupby(\"card_id\").agg(aggs)\n    \n    df_agg.columns = [prefix + \"_\" + \"_\".join(column_pair) for column_pair in df_agg.columns.ravel()] # Rename columns with respective dataframe name\n    df_agg.reset_index(inplace=True)\n    \n    return df_agg",
      "execution_count": 13,
      "outputs": []
    },
    {
      "metadata": {
        "trusted": true,
        "_uuid": "ae5d5d70218b681b2e38dbb2cc54c74cd50b1473"
      },
      "cell_type": "code",
      "source": "# Load historical_transactions data set\nhist = load_df_transactions(\"../input/historical_transactions.csv\")",
      "execution_count": 14,
      "outputs": []
    },
    {
      "metadata": {
        "trusted": true,
        "_uuid": "ac935a8ae7305334de7b3ca04ec70c3ee24fe204"
      },
      "cell_type": "code",
      "source": "hist = add_features_transactions(hist)",
      "execution_count": 15,
      "outputs": []
    },
    {
      "metadata": {
        "trusted": true,
        "_uuid": "86fe520a6fdc18a7725a2087d9c9a6bcfc67f8d0"
      },
      "cell_type": "code",
      "source": "aggregated_transactions = aggregate_transactions(hist, \"hist\")\ntrain = pd.merge(train, aggregated_transactions, on='card_id', how='left')\ntest = pd.merge(test, aggregated_transactions, on='card_id', how='left')\ndel aggregated_transactions # del for memory savings\ndel hist # del for memory savings\ngc.collect()",
      "execution_count": 16,
      "outputs": [
        {
          "output_type": "execute_result",
          "execution_count": 16,
          "data": {
            "text/plain": "184"
          },
          "metadata": {}
        }
      ]
    },
    {
      "metadata": {
        "trusted": true,
        "_uuid": "77c5c60a39efa863e6ac49b1e90b8f34e8ff3638"
      },
      "cell_type": "code",
      "source": "# Load new_merchant_transactions data set\nnew = load_df_transactions(\"../input/new_merchant_transactions.csv\")",
      "execution_count": 17,
      "outputs": []
    },
    {
      "metadata": {
        "trusted": true,
        "_uuid": "bcadfee87c9bcfedbaefc89be3da487beb63bc74"
      },
      "cell_type": "code",
      "source": "new = add_features_transactions(new)",
      "execution_count": 18,
      "outputs": []
    },
    {
      "metadata": {
        "trusted": true,
        "_uuid": "d7e809fe057cca4d576a0deb6e0e36fc568eac86"
      },
      "cell_type": "code",
      "source": "aggregated_transactions = aggregate_transactions(new, \"new\")\ntrain = pd.merge(train, aggregated_transactions, on='card_id', how='left')\ntest = pd.merge(test, aggregated_transactions, on='card_id', how='left')\ndel aggregated_transactions # delete for memory savings\ndel new # delete for memory savings\ngc.collect()",
      "execution_count": 19,
      "outputs": [
        {
          "output_type": "execute_result",
          "execution_count": 19,
          "data": {
            "text/plain": "182"
          },
          "metadata": {}
        }
      ]
    },
    {
      "metadata": {
        "trusted": true,
        "_uuid": "0993e9dc98baf7a45c0251ecf33bcf88faf807e1"
      },
      "cell_type": "code",
      "source": "# Add additional features to the train/test data frames\ndef add_features_main(df):\n    df[\"year\"] = df[\"first_active_month\"].dt.year.astype(\"category\")\n    df[\"weekofyear\"] = df[\"first_active_month\"].dt.weekofyear.astype(\"category\")\n    df[\"month\"] = df[\"first_active_month\"].dt.month.astype(\"category\")\n    df[\"elapsed_time\"] = (datetime.date(2018, 2, 1) - df[\"first_active_month\"].dt.date).dt.days\n    \n    df[\"hist_purchase_date_diff\"] = (df[\"hist_purchase_date_max\"] - df[\"hist_purchase_date_min\"]).dt.days\n    df[\"hist_purchase_date_average\"] = df[\"hist_purchase_date_diff\"]/df[\"hist_card_id_size\"]\n    df[\"hist_purchase_date_uptonow\"] = (datetime.datetime.today() - df[\"hist_purchase_date_max\"]).dt.days\n\n    df[\"hist_first_buy\"] = (df[\"hist_purchase_date_min\"] - df[\"first_active_month\"]).dt.days\n    df[\"new_first_buy\"] = (df[\"new_purchase_date_min\"] - df[\"first_active_month\"]).dt.days\n    \n    for col in [\"hist_purchase_date_max\",\"hist_purchase_date_min\",\"new_purchase_date_max\", \"new_purchase_date_min\"]:\n        df[col] = df[col].astype(np.int64) * 1e-9\n    df[\"card_id_total\"] = df[\"new_card_id_size\"] + df[\"hist_card_id_size\"]\n    df[\"purchase_amount_total\"] = df[\"new_purchase_amount_sum\"] + df[\"hist_purchase_amount_sum\"]",
      "execution_count": 20,
      "outputs": []
    },
    {
      "metadata": {
        "trusted": true,
        "_uuid": "9957b0edbd827585f6f955f6d65d53f69fbdfcd3"
      },
      "cell_type": "code",
      "source": "add_features_main(train)\nadd_features_main(test)",
      "execution_count": 21,
      "outputs": []
    },
    {
      "metadata": {
        "trusted": true,
        "_uuid": "0f298ed04fab7816d94822b115b26a561030bc6a"
      },
      "cell_type": "code",
      "source": "train.head()",
      "execution_count": 22,
      "outputs": [
        {
          "output_type": "execute_result",
          "execution_count": 22,
          "data": {
            "text/plain": "  first_active_month          ...          purchase_amount_total\n0         2017-06-01          ...                    -179.212936\n1         2017-01-01          ...                    -214.362061\n2         2016-08-01          ...                     -29.867716\n3         2017-09-01          ...                     -54.145737\n4         2017-11-01          ...                     -68.613892\n\n[5 rows x 115 columns]",
            "text/html": "<div>\n<style scoped>\n    .dataframe tbody tr th:only-of-type {\n        vertical-align: middle;\n    }\n\n    .dataframe tbody tr th {\n        vertical-align: top;\n    }\n\n    .dataframe thead th {\n        text-align: right;\n    }\n</style>\n<table border=\"1\" class=\"dataframe\">\n  <thead>\n    <tr style=\"text-align: right;\">\n      <th></th>\n      <th>first_active_month</th>\n      <th>card_id</th>\n      <th>feature_1</th>\n      <th>feature_2</th>\n      <th>feature_3</th>\n      <th>target</th>\n      <th>hist_purchase_date_max</th>\n      <th>hist_purchase_date_min</th>\n      <th>hist_month_diff_mean</th>\n      <th>hist_card_id_size</th>\n      <th>hist_purchase_amount_sum</th>\n      <th>hist_purchase_amount_max</th>\n      <th>hist_purchase_amount_min</th>\n      <th>hist_purchase_amount_mean</th>\n      <th>hist_purchase_amount_var</th>\n      <th>hist_installments_sum</th>\n      <th>hist_installments_max</th>\n      <th>hist_installments_min</th>\n      <th>hist_installments_mean</th>\n      <th>hist_installments_var</th>\n      <th>hist_month_lag_sum</th>\n      <th>hist_month_lag_max</th>\n      <th>hist_month_lag_min</th>\n      <th>hist_month_lag_mean</th>\n      <th>hist_month_lag_var</th>\n      <th>hist_authorized_flag_sum</th>\n      <th>hist_authorized_flag_mean</th>\n      <th>hist_purchase_weekend_sum</th>\n      <th>hist_purchase_weekend_mean</th>\n      <th>hist_category_1_sum</th>\n      <th>hist_category_1_mean</th>\n      <th>hist_category_2_1_sum</th>\n      <th>hist_category_2_1_mean</th>\n      <th>hist_category_2_2_sum</th>\n      <th>hist_category_2_2_mean</th>\n      <th>hist_category_2_3_sum</th>\n      <th>hist_category_2_3_mean</th>\n      <th>hist_category_2_4_sum</th>\n      <th>hist_category_2_4_mean</th>\n      <th>hist_category_2_5_sum</th>\n      <th>...</th>\n      <th>new_authorized_flag_mean</th>\n      <th>new_purchase_weekend_sum</th>\n      <th>new_purchase_weekend_mean</th>\n      <th>new_category_1_sum</th>\n      <th>new_category_1_mean</th>\n      <th>new_category_2_1_sum</th>\n      <th>new_category_2_1_mean</th>\n      <th>new_category_2_2_sum</th>\n      <th>new_category_2_2_mean</th>\n      <th>new_category_2_3_sum</th>\n      <th>new_category_2_3_mean</th>\n      <th>new_category_2_4_sum</th>\n      <th>new_category_2_4_mean</th>\n      <th>new_category_2_5_sum</th>\n      <th>new_category_2_5_mean</th>\n      <th>new_category_3_A_sum</th>\n      <th>new_category_3_A_mean</th>\n      <th>new_category_3_B_sum</th>\n      <th>new_category_3_B_mean</th>\n      <th>new_category_3_C_sum</th>\n      <th>new_category_3_C_mean</th>\n      <th>new_purchase_year_nunique</th>\n      <th>new_purchase_weekofyear_nunique</th>\n      <th>new_purchase_month_nunique</th>\n      <th>new_purchase_dayofweek_nunique</th>\n      <th>new_purchase_hour_nunique</th>\n      <th>new_subsector_id_nunique</th>\n      <th>new_merchant_id_nunique</th>\n      <th>new_merchant_category_id_nunique</th>\n      <th>year</th>\n      <th>weekofyear</th>\n      <th>month</th>\n      <th>elapsed_time</th>\n      <th>hist_purchase_date_diff</th>\n      <th>hist_purchase_date_average</th>\n      <th>hist_purchase_date_uptonow</th>\n      <th>hist_first_buy</th>\n      <th>new_first_buy</th>\n      <th>card_id_total</th>\n      <th>purchase_amount_total</th>\n    </tr>\n  </thead>\n  <tbody>\n    <tr>\n      <th>0</th>\n      <td>2017-06-01</td>\n      <td>C_ID_92a2005557</td>\n      <td>5</td>\n      <td>2</td>\n      <td>1</td>\n      <td>-0.820283</td>\n      <td>1.519551e+09</td>\n      <td>1.498573e+09</td>\n      <td>10.473077</td>\n      <td>260</td>\n      <td>-165.968735</td>\n      <td>2.258394</td>\n      <td>-0.739395</td>\n      <td>-0.638341</td>\n      <td>0.045003</td>\n      <td>4</td>\n      <td>1</td>\n      <td>0</td>\n      <td>0.015385</td>\n      <td>0.015206</td>\n      <td>-1017</td>\n      <td>0</td>\n      <td>-8</td>\n      <td>-3.911538</td>\n      <td>5.748901</td>\n      <td>247</td>\n      <td>0.950000</td>\n      <td>90</td>\n      <td>0.346154</td>\n      <td>0</td>\n      <td>0.000000</td>\n      <td>257.0</td>\n      <td>0.988462</td>\n      <td>0.0</td>\n      <td>0.0</td>\n      <td>0.0</td>\n      <td>0.0</td>\n      <td>0.0</td>\n      <td>0.000000</td>\n      <td>3.0</td>\n      <td>...</td>\n      <td>1.0</td>\n      <td>6.0</td>\n      <td>0.260870</td>\n      <td>0.0</td>\n      <td>0.000000</td>\n      <td>23.0</td>\n      <td>1.000000</td>\n      <td>0.0</td>\n      <td>0.0</td>\n      <td>0.0</td>\n      <td>0.000000</td>\n      <td>0.0</td>\n      <td>0.000000</td>\n      <td>0.0</td>\n      <td>0.0</td>\n      <td>23.0</td>\n      <td>1.000000</td>\n      <td>0.0</td>\n      <td>0.000000</td>\n      <td>0.0</td>\n      <td>0.000000</td>\n      <td>1.0</td>\n      <td>7.0</td>\n      <td>2.0</td>\n      <td>7.0</td>\n      <td>8.0</td>\n      <td>10.0</td>\n      <td>23.0</td>\n      <td>14.0</td>\n      <td>2017</td>\n      <td>22</td>\n      <td>6</td>\n      <td>245</td>\n      <td>242</td>\n      <td>0.930769</td>\n      <td>316</td>\n      <td>26</td>\n      <td>277.0</td>\n      <td>283.0</td>\n      <td>-179.212936</td>\n    </tr>\n    <tr>\n      <th>1</th>\n      <td>2017-01-01</td>\n      <td>C_ID_3d0044924f</td>\n      <td>4</td>\n      <td>1</td>\n      <td>0</td>\n      <td>0.392913</td>\n      <td>1.517438e+09</td>\n      <td>1.483720e+09</td>\n      <td>11.400000</td>\n      <td>350</td>\n      <td>-210.006332</td>\n      <td>4.630300</td>\n      <td>-0.742400</td>\n      <td>-0.600018</td>\n      <td>0.148200</td>\n      <td>543</td>\n      <td>10</td>\n      <td>-1</td>\n      <td>1.551429</td>\n      <td>2.282448</td>\n      <td>-1761</td>\n      <td>0</td>\n      <td>-12</td>\n      <td>-5.031429</td>\n      <td>14.477519</td>\n      <td>339</td>\n      <td>0.968571</td>\n      <td>132</td>\n      <td>0.377143</td>\n      <td>31</td>\n      <td>0.088571</td>\n      <td>350.0</td>\n      <td>1.000000</td>\n      <td>0.0</td>\n      <td>0.0</td>\n      <td>0.0</td>\n      <td>0.0</td>\n      <td>0.0</td>\n      <td>0.000000</td>\n      <td>0.0</td>\n      <td>...</td>\n      <td>1.0</td>\n      <td>0.0</td>\n      <td>0.000000</td>\n      <td>0.0</td>\n      <td>0.000000</td>\n      <td>6.0</td>\n      <td>1.000000</td>\n      <td>0.0</td>\n      <td>0.0</td>\n      <td>0.0</td>\n      <td>0.000000</td>\n      <td>0.0</td>\n      <td>0.000000</td>\n      <td>0.0</td>\n      <td>0.0</td>\n      <td>0.0</td>\n      <td>0.000000</td>\n      <td>6.0</td>\n      <td>1.000000</td>\n      <td>0.0</td>\n      <td>0.000000</td>\n      <td>1.0</td>\n      <td>4.0</td>\n      <td>2.0</td>\n      <td>4.0</td>\n      <td>5.0</td>\n      <td>4.0</td>\n      <td>6.0</td>\n      <td>5.0</td>\n      <td>2017</td>\n      <td>52</td>\n      <td>1</td>\n      <td>396</td>\n      <td>390</td>\n      <td>1.114286</td>\n      <td>340</td>\n      <td>5</td>\n      <td>396.0</td>\n      <td>356.0</td>\n      <td>-214.362061</td>\n    </tr>\n    <tr>\n      <th>2</th>\n      <td>2016-08-01</td>\n      <td>C_ID_d639edf6cd</td>\n      <td>2</td>\n      <td>2</td>\n      <td>0</td>\n      <td>0.688056</td>\n      <td>1.519759e+09</td>\n      <td>1.484123e+09</td>\n      <td>10.325581</td>\n      <td>43</td>\n      <td>-29.167391</td>\n      <td>-0.145847</td>\n      <td>-0.730138</td>\n      <td>-0.678311</td>\n      <td>0.007635</td>\n      <td>0</td>\n      <td>0</td>\n      <td>0</td>\n      <td>0.000000</td>\n      <td>0.000000</td>\n      <td>-370</td>\n      <td>0</td>\n      <td>-13</td>\n      <td>-8.604651</td>\n      <td>14.768549</td>\n      <td>41</td>\n      <td>0.953488</td>\n      <td>11</td>\n      <td>0.255814</td>\n      <td>0</td>\n      <td>0.000000</td>\n      <td>4.0</td>\n      <td>0.093023</td>\n      <td>0.0</td>\n      <td>0.0</td>\n      <td>0.0</td>\n      <td>0.0</td>\n      <td>0.0</td>\n      <td>0.000000</td>\n      <td>39.0</td>\n      <td>...</td>\n      <td>1.0</td>\n      <td>1.0</td>\n      <td>1.000000</td>\n      <td>0.0</td>\n      <td>0.000000</td>\n      <td>0.0</td>\n      <td>0.000000</td>\n      <td>0.0</td>\n      <td>0.0</td>\n      <td>0.0</td>\n      <td>0.000000</td>\n      <td>0.0</td>\n      <td>0.000000</td>\n      <td>1.0</td>\n      <td>1.0</td>\n      <td>1.0</td>\n      <td>1.000000</td>\n      <td>0.0</td>\n      <td>0.000000</td>\n      <td>0.0</td>\n      <td>0.000000</td>\n      <td>1.0</td>\n      <td>1.0</td>\n      <td>1.0</td>\n      <td>1.0</td>\n      <td>1.0</td>\n      <td>1.0</td>\n      <td>1.0</td>\n      <td>1.0</td>\n      <td>2016</td>\n      <td>31</td>\n      <td>8</td>\n      <td>549</td>\n      <td>412</td>\n      <td>9.581395</td>\n      <td>313</td>\n      <td>163</td>\n      <td>635.0</td>\n      <td>44.0</td>\n      <td>-29.867716</td>\n    </tr>\n    <tr>\n      <th>3</th>\n      <td>2017-09-01</td>\n      <td>C_ID_186d6a6901</td>\n      <td>4</td>\n      <td>3</td>\n      <td>0</td>\n      <td>0.142495</td>\n      <td>1.519818e+09</td>\n      <td>1.506443e+09</td>\n      <td>10.350649</td>\n      <td>77</td>\n      <td>-49.491364</td>\n      <td>1.445596</td>\n      <td>-0.740897</td>\n      <td>-0.642745</td>\n      <td>0.068447</td>\n      <td>84</td>\n      <td>3</td>\n      <td>-1</td>\n      <td>1.090909</td>\n      <td>0.346890</td>\n      <td>-218</td>\n      <td>0</td>\n      <td>-5</td>\n      <td>-2.831169</td>\n      <td>3.247437</td>\n      <td>77</td>\n      <td>1.000000</td>\n      <td>11</td>\n      <td>0.142857</td>\n      <td>12</td>\n      <td>0.155844</td>\n      <td>24.0</td>\n      <td>0.311688</td>\n      <td>0.0</td>\n      <td>0.0</td>\n      <td>0.0</td>\n      <td>0.0</td>\n      <td>53.0</td>\n      <td>0.688312</td>\n      <td>0.0</td>\n      <td>...</td>\n      <td>1.0</td>\n      <td>3.0</td>\n      <td>0.428571</td>\n      <td>1.0</td>\n      <td>0.142857</td>\n      <td>1.0</td>\n      <td>0.142857</td>\n      <td>0.0</td>\n      <td>0.0</td>\n      <td>0.0</td>\n      <td>0.000000</td>\n      <td>6.0</td>\n      <td>0.857143</td>\n      <td>0.0</td>\n      <td>0.0</td>\n      <td>1.0</td>\n      <td>0.142857</td>\n      <td>6.0</td>\n      <td>0.857143</td>\n      <td>0.0</td>\n      <td>0.000000</td>\n      <td>1.0</td>\n      <td>5.0</td>\n      <td>2.0</td>\n      <td>4.0</td>\n      <td>5.0</td>\n      <td>5.0</td>\n      <td>7.0</td>\n      <td>6.0</td>\n      <td>2017</td>\n      <td>35</td>\n      <td>9</td>\n      <td>153</td>\n      <td>154</td>\n      <td>2.000000</td>\n      <td>313</td>\n      <td>25</td>\n      <td>187.0</td>\n      <td>84.0</td>\n      <td>-54.145737</td>\n    </tr>\n    <tr>\n      <th>4</th>\n      <td>2017-11-01</td>\n      <td>C_ID_cdbd2c0db2</td>\n      <td>1</td>\n      <td>3</td>\n      <td>0</td>\n      <td>-0.159749</td>\n      <td>1.519850e+09</td>\n      <td>1.510445e+09</td>\n      <td>10.353383</td>\n      <td>133</td>\n      <td>-48.687656</td>\n      <td>7.193041</td>\n      <td>-0.746156</td>\n      <td>-0.366073</td>\n      <td>1.828159</td>\n      <td>182</td>\n      <td>12</td>\n      <td>1</td>\n      <td>1.368421</td>\n      <td>3.598086</td>\n      <td>-171</td>\n      <td>0</td>\n      <td>-3</td>\n      <td>-1.285714</td>\n      <td>1.054113</td>\n      <td>128</td>\n      <td>0.962406</td>\n      <td>42</td>\n      <td>0.315789</td>\n      <td>15</td>\n      <td>0.112782</td>\n      <td>25.0</td>\n      <td>0.187970</td>\n      <td>0.0</td>\n      <td>0.0</td>\n      <td>0.0</td>\n      <td>0.0</td>\n      <td>107.0</td>\n      <td>0.804511</td>\n      <td>1.0</td>\n      <td>...</td>\n      <td>1.0</td>\n      <td>12.0</td>\n      <td>0.333333</td>\n      <td>2.0</td>\n      <td>0.055556</td>\n      <td>4.0</td>\n      <td>0.111111</td>\n      <td>0.0</td>\n      <td>0.0</td>\n      <td>7.0</td>\n      <td>0.194444</td>\n      <td>25.0</td>\n      <td>0.694444</td>\n      <td>0.0</td>\n      <td>0.0</td>\n      <td>1.0</td>\n      <td>0.027778</td>\n      <td>34.0</td>\n      <td>0.944444</td>\n      <td>1.0</td>\n      <td>0.027778</td>\n      <td>1.0</td>\n      <td>8.0</td>\n      <td>2.0</td>\n      <td>7.0</td>\n      <td>14.0</td>\n      <td>10.0</td>\n      <td>36.0</td>\n      <td>17.0</td>\n      <td>2017</td>\n      <td>44</td>\n      <td>11</td>\n      <td>92</td>\n      <td>108</td>\n      <td>0.812030</td>\n      <td>312</td>\n      <td>11</td>\n      <td>121.0</td>\n      <td>169.0</td>\n      <td>-68.613892</td>\n    </tr>\n  </tbody>\n</table>\n</div>"
          },
          "metadata": {}
        }
      ]
    },
    {
      "metadata": {
        "trusted": true,
        "_uuid": "f8782aa48bc7e7071e4fac867f50f6d6ccd1338e"
      },
      "cell_type": "code",
      "source": "test.head()",
      "execution_count": 23,
      "outputs": [
        {
          "output_type": "execute_result",
          "execution_count": 23,
          "data": {
            "text/plain": "  first_active_month          ...          purchase_amount_total\n0         2017-04-01          ...                     -42.510891\n1         2017-01-01          ...                     -55.081211\n2         2017-08-01          ...                       4.708978\n3         2017-12-01          ...                     -19.434389\n4         2015-12-01          ...                      37.204384\n\n[5 rows x 114 columns]",
            "text/html": "<div>\n<style scoped>\n    .dataframe tbody tr th:only-of-type {\n        vertical-align: middle;\n    }\n\n    .dataframe tbody tr th {\n        vertical-align: top;\n    }\n\n    .dataframe thead th {\n        text-align: right;\n    }\n</style>\n<table border=\"1\" class=\"dataframe\">\n  <thead>\n    <tr style=\"text-align: right;\">\n      <th></th>\n      <th>first_active_month</th>\n      <th>card_id</th>\n      <th>feature_1</th>\n      <th>feature_2</th>\n      <th>feature_3</th>\n      <th>hist_purchase_date_max</th>\n      <th>hist_purchase_date_min</th>\n      <th>hist_month_diff_mean</th>\n      <th>hist_card_id_size</th>\n      <th>hist_purchase_amount_sum</th>\n      <th>hist_purchase_amount_max</th>\n      <th>hist_purchase_amount_min</th>\n      <th>hist_purchase_amount_mean</th>\n      <th>hist_purchase_amount_var</th>\n      <th>hist_installments_sum</th>\n      <th>hist_installments_max</th>\n      <th>hist_installments_min</th>\n      <th>hist_installments_mean</th>\n      <th>hist_installments_var</th>\n      <th>hist_month_lag_sum</th>\n      <th>hist_month_lag_max</th>\n      <th>hist_month_lag_min</th>\n      <th>hist_month_lag_mean</th>\n      <th>hist_month_lag_var</th>\n      <th>hist_authorized_flag_sum</th>\n      <th>hist_authorized_flag_mean</th>\n      <th>hist_purchase_weekend_sum</th>\n      <th>hist_purchase_weekend_mean</th>\n      <th>hist_category_1_sum</th>\n      <th>hist_category_1_mean</th>\n      <th>hist_category_2_1_sum</th>\n      <th>hist_category_2_1_mean</th>\n      <th>hist_category_2_2_sum</th>\n      <th>hist_category_2_2_mean</th>\n      <th>hist_category_2_3_sum</th>\n      <th>hist_category_2_3_mean</th>\n      <th>hist_category_2_4_sum</th>\n      <th>hist_category_2_4_mean</th>\n      <th>hist_category_2_5_sum</th>\n      <th>hist_category_2_5_mean</th>\n      <th>...</th>\n      <th>new_authorized_flag_mean</th>\n      <th>new_purchase_weekend_sum</th>\n      <th>new_purchase_weekend_mean</th>\n      <th>new_category_1_sum</th>\n      <th>new_category_1_mean</th>\n      <th>new_category_2_1_sum</th>\n      <th>new_category_2_1_mean</th>\n      <th>new_category_2_2_sum</th>\n      <th>new_category_2_2_mean</th>\n      <th>new_category_2_3_sum</th>\n      <th>new_category_2_3_mean</th>\n      <th>new_category_2_4_sum</th>\n      <th>new_category_2_4_mean</th>\n      <th>new_category_2_5_sum</th>\n      <th>new_category_2_5_mean</th>\n      <th>new_category_3_A_sum</th>\n      <th>new_category_3_A_mean</th>\n      <th>new_category_3_B_sum</th>\n      <th>new_category_3_B_mean</th>\n      <th>new_category_3_C_sum</th>\n      <th>new_category_3_C_mean</th>\n      <th>new_purchase_year_nunique</th>\n      <th>new_purchase_weekofyear_nunique</th>\n      <th>new_purchase_month_nunique</th>\n      <th>new_purchase_dayofweek_nunique</th>\n      <th>new_purchase_hour_nunique</th>\n      <th>new_subsector_id_nunique</th>\n      <th>new_merchant_id_nunique</th>\n      <th>new_merchant_category_id_nunique</th>\n      <th>year</th>\n      <th>weekofyear</th>\n      <th>month</th>\n      <th>elapsed_time</th>\n      <th>hist_purchase_date_diff</th>\n      <th>hist_purchase_date_average</th>\n      <th>hist_purchase_date_uptonow</th>\n      <th>hist_first_buy</th>\n      <th>new_first_buy</th>\n      <th>card_id_total</th>\n      <th>purchase_amount_total</th>\n    </tr>\n  </thead>\n  <tbody>\n    <tr>\n      <th>0</th>\n      <td>2017-04-01</td>\n      <td>C_ID_0ab67a22ab</td>\n      <td>3</td>\n      <td>3</td>\n      <td>1</td>\n      <td>1.514510e+09</td>\n      <td>1.491330e+09</td>\n      <td>12.411765</td>\n      <td>68</td>\n      <td>-40.733734</td>\n      <td>0.235676</td>\n      <td>-0.743903</td>\n      <td>-0.599025</td>\n      <td>0.036967</td>\n      <td>141</td>\n      <td>12</td>\n      <td>1</td>\n      <td>2.073529</td>\n      <td>4.248244</td>\n      <td>-247</td>\n      <td>0</td>\n      <td>-8</td>\n      <td>-3.632353</td>\n      <td>6.026997</td>\n      <td>44</td>\n      <td>0.647059</td>\n      <td>12</td>\n      <td>0.176471</td>\n      <td>23</td>\n      <td>0.338235</td>\n      <td>68.0</td>\n      <td>1.000000</td>\n      <td>0.0</td>\n      <td>0.0</td>\n      <td>0.0</td>\n      <td>0.000000</td>\n      <td>0.0</td>\n      <td>0.000000</td>\n      <td>0.0</td>\n      <td>0.000000</td>\n      <td>...</td>\n      <td>1.0</td>\n      <td>1.0</td>\n      <td>0.333333</td>\n      <td>0.0</td>\n      <td>0.000000</td>\n      <td>3.0</td>\n      <td>1.000000</td>\n      <td>0.0</td>\n      <td>0.0</td>\n      <td>0.0</td>\n      <td>0.000000</td>\n      <td>0.0</td>\n      <td>0.000000</td>\n      <td>0.0</td>\n      <td>0.0</td>\n      <td>0.0</td>\n      <td>0.000000</td>\n      <td>2.0</td>\n      <td>0.666667</td>\n      <td>1.0</td>\n      <td>0.333333</td>\n      <td>1.0</td>\n      <td>3.0</td>\n      <td>1.0</td>\n      <td>3.0</td>\n      <td>3.0</td>\n      <td>3.0</td>\n      <td>3.0</td>\n      <td>3.0</td>\n      <td>2017.0</td>\n      <td>13.0</td>\n      <td>4.0</td>\n      <td>306.0</td>\n      <td>268</td>\n      <td>3.941176</td>\n      <td>374</td>\n      <td>3.0</td>\n      <td>308.0</td>\n      <td>71.0</td>\n      <td>-42.510891</td>\n    </tr>\n    <tr>\n      <th>1</th>\n      <td>2017-01-01</td>\n      <td>C_ID_130fd0cbdd</td>\n      <td>2</td>\n      <td>3</td>\n      <td>0</td>\n      <td>1.518989e+09</td>\n      <td>1.484321e+09</td>\n      <td>10.461538</td>\n      <td>78</td>\n      <td>-49.136513</td>\n      <td>0.318817</td>\n      <td>-0.731881</td>\n      <td>-0.629955</td>\n      <td>0.024025</td>\n      <td>83</td>\n      <td>4</td>\n      <td>1</td>\n      <td>1.064103</td>\n      <td>0.164669</td>\n      <td>-812</td>\n      <td>0</td>\n      <td>-13</td>\n      <td>-10.410256</td>\n      <td>4.686647</td>\n      <td>77</td>\n      <td>0.987179</td>\n      <td>17</td>\n      <td>0.217949</td>\n      <td>2</td>\n      <td>0.025641</td>\n      <td>2.0</td>\n      <td>0.025641</td>\n      <td>0.0</td>\n      <td>0.0</td>\n      <td>1.0</td>\n      <td>0.012821</td>\n      <td>75.0</td>\n      <td>0.961538</td>\n      <td>0.0</td>\n      <td>0.000000</td>\n      <td>...</td>\n      <td>1.0</td>\n      <td>3.0</td>\n      <td>0.333333</td>\n      <td>2.0</td>\n      <td>0.222222</td>\n      <td>2.0</td>\n      <td>0.222222</td>\n      <td>0.0</td>\n      <td>0.0</td>\n      <td>0.0</td>\n      <td>0.000000</td>\n      <td>7.0</td>\n      <td>0.777778</td>\n      <td>0.0</td>\n      <td>0.0</td>\n      <td>0.0</td>\n      <td>0.000000</td>\n      <td>8.0</td>\n      <td>0.888889</td>\n      <td>1.0</td>\n      <td>0.111111</td>\n      <td>1.0</td>\n      <td>6.0</td>\n      <td>2.0</td>\n      <td>6.0</td>\n      <td>8.0</td>\n      <td>6.0</td>\n      <td>9.0</td>\n      <td>8.0</td>\n      <td>2017.0</td>\n      <td>52.0</td>\n      <td>1.0</td>\n      <td>396.0</td>\n      <td>401</td>\n      <td>5.141026</td>\n      <td>322</td>\n      <td>12.0</td>\n      <td>426.0</td>\n      <td>87.0</td>\n      <td>-55.081211</td>\n    </tr>\n    <tr>\n      <th>2</th>\n      <td>2017-08-01</td>\n      <td>C_ID_b709037bc5</td>\n      <td>5</td>\n      <td>1</td>\n      <td>1</td>\n      <td>1.517598e+09</td>\n      <td>1.503673e+09</td>\n      <td>10.846154</td>\n      <td>13</td>\n      <td>4.528841</td>\n      <td>2.525867</td>\n      <td>-0.536537</td>\n      <td>0.348372</td>\n      <td>0.821827</td>\n      <td>44</td>\n      <td>10</td>\n      <td>-1</td>\n      <td>3.384615</td>\n      <td>13.589744</td>\n      <td>-27</td>\n      <td>0</td>\n      <td>-6</td>\n      <td>-2.076923</td>\n      <td>3.076923</td>\n      <td>9</td>\n      <td>0.692308</td>\n      <td>0</td>\n      <td>0.000000</td>\n      <td>1</td>\n      <td>0.076923</td>\n      <td>2.0</td>\n      <td>0.153846</td>\n      <td>0.0</td>\n      <td>0.0</td>\n      <td>0.0</td>\n      <td>0.000000</td>\n      <td>0.0</td>\n      <td>0.000000</td>\n      <td>11.0</td>\n      <td>0.846154</td>\n      <td>...</td>\n      <td>1.0</td>\n      <td>0.0</td>\n      <td>0.000000</td>\n      <td>1.0</td>\n      <td>0.500000</td>\n      <td>1.0</td>\n      <td>0.500000</td>\n      <td>0.0</td>\n      <td>0.0</td>\n      <td>0.0</td>\n      <td>0.000000</td>\n      <td>0.0</td>\n      <td>0.000000</td>\n      <td>1.0</td>\n      <td>0.5</td>\n      <td>0.0</td>\n      <td>0.000000</td>\n      <td>1.0</td>\n      <td>0.500000</td>\n      <td>1.0</td>\n      <td>0.500000</td>\n      <td>1.0</td>\n      <td>2.0</td>\n      <td>1.0</td>\n      <td>2.0</td>\n      <td>2.0</td>\n      <td>2.0</td>\n      <td>2.0</td>\n      <td>2.0</td>\n      <td>2017.0</td>\n      <td>31.0</td>\n      <td>8.0</td>\n      <td>184.0</td>\n      <td>161</td>\n      <td>12.384615</td>\n      <td>339</td>\n      <td>24.0</td>\n      <td>212.0</td>\n      <td>15.0</td>\n      <td>4.708978</td>\n    </tr>\n    <tr>\n      <th>3</th>\n      <td>2017-12-01</td>\n      <td>C_ID_d27d835a9f</td>\n      <td>2</td>\n      <td>1</td>\n      <td>0</td>\n      <td>1.519127e+09</td>\n      <td>1.512392e+09</td>\n      <td>10.576923</td>\n      <td>26</td>\n      <td>-13.690715</td>\n      <td>0.087965</td>\n      <td>-0.731881</td>\n      <td>-0.526566</td>\n      <td>0.048032</td>\n      <td>38</td>\n      <td>6</td>\n      <td>-1</td>\n      <td>1.461538</td>\n      <td>2.178462</td>\n      <td>-32</td>\n      <td>0</td>\n      <td>-2</td>\n      <td>-1.230769</td>\n      <td>0.904615</td>\n      <td>26</td>\n      <td>1.000000</td>\n      <td>7</td>\n      <td>0.269231</td>\n      <td>0</td>\n      <td>0.000000</td>\n      <td>26.0</td>\n      <td>1.000000</td>\n      <td>0.0</td>\n      <td>0.0</td>\n      <td>0.0</td>\n      <td>0.000000</td>\n      <td>0.0</td>\n      <td>0.000000</td>\n      <td>0.0</td>\n      <td>0.000000</td>\n      <td>...</td>\n      <td>1.0</td>\n      <td>3.0</td>\n      <td>0.300000</td>\n      <td>1.0</td>\n      <td>0.100000</td>\n      <td>9.0</td>\n      <td>0.900000</td>\n      <td>0.0</td>\n      <td>0.0</td>\n      <td>0.0</td>\n      <td>0.000000</td>\n      <td>0.0</td>\n      <td>0.000000</td>\n      <td>1.0</td>\n      <td>0.1</td>\n      <td>0.0</td>\n      <td>0.000000</td>\n      <td>5.0</td>\n      <td>0.500000</td>\n      <td>5.0</td>\n      <td>0.500000</td>\n      <td>1.0</td>\n      <td>7.0</td>\n      <td>2.0</td>\n      <td>5.0</td>\n      <td>7.0</td>\n      <td>8.0</td>\n      <td>10.0</td>\n      <td>10.0</td>\n      <td>2017.0</td>\n      <td>48.0</td>\n      <td>12.0</td>\n      <td>62.0</td>\n      <td>77</td>\n      <td>2.961538</td>\n      <td>321</td>\n      <td>3.0</td>\n      <td>93.0</td>\n      <td>36.0</td>\n      <td>-19.434389</td>\n    </tr>\n    <tr>\n      <th>4</th>\n      <td>2015-12-01</td>\n      <td>C_ID_2b5e3df5c2</td>\n      <td>5</td>\n      <td>1</td>\n      <td>1</td>\n      <td>1.519728e+09</td>\n      <td>1.483444e+09</td>\n      <td>10.536364</td>\n      <td>110</td>\n      <td>25.139385</td>\n      <td>15.782255</td>\n      <td>-0.746758</td>\n      <td>0.228540</td>\n      <td>7.715973</td>\n      <td>120</td>\n      <td>4</td>\n      <td>1</td>\n      <td>1.090909</td>\n      <td>0.193495</td>\n      <td>-685</td>\n      <td>0</td>\n      <td>-13</td>\n      <td>-6.227273</td>\n      <td>20.525855</td>\n      <td>87</td>\n      <td>0.790909</td>\n      <td>21</td>\n      <td>0.190909</td>\n      <td>0</td>\n      <td>0.000000</td>\n      <td>4.0</td>\n      <td>0.036364</td>\n      <td>0.0</td>\n      <td>0.0</td>\n      <td>5.0</td>\n      <td>0.045455</td>\n      <td>101.0</td>\n      <td>0.918182</td>\n      <td>0.0</td>\n      <td>0.000000</td>\n      <td>...</td>\n      <td>1.0</td>\n      <td>2.0</td>\n      <td>0.333333</td>\n      <td>0.0</td>\n      <td>0.000000</td>\n      <td>0.0</td>\n      <td>0.000000</td>\n      <td>0.0</td>\n      <td>0.0</td>\n      <td>1.0</td>\n      <td>0.166667</td>\n      <td>5.0</td>\n      <td>0.833333</td>\n      <td>0.0</td>\n      <td>0.0</td>\n      <td>1.0</td>\n      <td>0.166667</td>\n      <td>4.0</td>\n      <td>0.666667</td>\n      <td>1.0</td>\n      <td>0.166667</td>\n      <td>1.0</td>\n      <td>3.0</td>\n      <td>2.0</td>\n      <td>4.0</td>\n      <td>5.0</td>\n      <td>4.0</td>\n      <td>6.0</td>\n      <td>5.0</td>\n      <td>2015.0</td>\n      <td>49.0</td>\n      <td>12.0</td>\n      <td>793.0</td>\n      <td>419</td>\n      <td>3.809091</td>\n      <td>314</td>\n      <td>399.0</td>\n      <td>824.0</td>\n      <td>116.0</td>\n      <td>37.204384</td>\n    </tr>\n  </tbody>\n</table>\n</div>"
          },
          "metadata": {}
        }
      ]
    },
    {
      "metadata": {
        "trusted": true,
        "_uuid": "61008cbe479708406b3e2afe7a7031986ec64275"
      },
      "cell_type": "code",
      "source": "train.to_csv(\"train.csv\", index=False)\ntest.to_csv(\"test.csv\", index=False)",
      "execution_count": null,
      "outputs": []
    },
    {
      "metadata": {
        "trusted": true,
        "_uuid": "7eba6fb3ffb9a070991c41f333b6fcd61c7392ec"
      },
      "cell_type": "code",
      "source": "",
      "execution_count": null,
      "outputs": []
    }
  ],
  "metadata": {
    "kernelspec": {
      "display_name": "Python 3",
      "language": "python",
      "name": "python3"
    },
    "language_info": {
      "name": "python",
      "version": "3.6.6",
      "mimetype": "text/x-python",
      "codemirror_mode": {
        "name": "ipython",
        "version": 3
      },
      "pygments_lexer": "ipython3",
      "nbconvert_exporter": "python",
      "file_extension": ".py"
    }
  },
  "nbformat": 4,
  "nbformat_minor": 1
}